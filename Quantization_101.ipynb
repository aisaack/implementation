{
  "nbformat": 4,
  "nbformat_minor": 0,
  "metadata": {
    "colab": {
      "name": "Quantization 101.ipynb",
      "provenance": [],
      "collapsed_sections": [],
      "authorship_tag": "ABX9TyNo0+CiFbc+PAZAHgfahRfi"
    },
    "kernelspec": {
      "name": "python3",
      "display_name": "Python 3"
    },
    "language_info": {
      "name": "python"
    }
  },
  "cells": [
    {
      "cell_type": "markdown",
      "source": [
        "# Quantization 101\n",
        "## Image compression\n"
      ],
      "metadata": {
        "id": "M9qSGV1tIUnZ"
      }
    },
    {
      "cell_type": "markdown",
      "source": [
        "$\n",
        "\\begin{array}{lc}\n",
        "\\text{Quantization}\n",
        "\\\\q(x;s,z)=clip\\left(round\\left(\\frac{x}{s}+z\\right)\\right) \\\\\n",
        "\\\\\\text{Dequantization}\\\\\n",
        "x\\approx\\hat{x}=s\\cdot(q(x)-z)\n",
        "\\end{array}\n",
        "$"
      ],
      "metadata": {
        "id": "7rbMQ9JWHHnv"
      }
    },
    {
      "cell_type": "markdown",
      "source": [
        "$\n",
        "\\begin{array}{lc}\n",
        "s = \\frac{\\beta-\\alpha}{\\beta_q-\\alpha_q}\\\\ \\\\\n",
        "z = \\frac{\\beta\\alpha_q-\\alpha\\beta_q}{\\beta-\\alpha}\n",
        "\\end{array}\n",
        "$"
      ],
      "metadata": {
        "id": "JCF_ssuzKCd5"
      }
    },
    {
      "cell_type": "code",
      "source": [
        "import tensorflow as tf"
      ],
      "metadata": {
        "id": "MUGC1a4aXV3W"
      },
      "execution_count": 1,
      "outputs": []
    },
    {
      "cell_type": "markdown",
      "source": [
        "Initiate weight"
      ],
      "metadata": {
        "id": "t6BjrHCVJO4O"
      }
    },
    {
      "cell_type": "code",
      "source": [
        "w = tf.keras.initializers.VarianceScaling(scale=2, mode='fan_in')(shape=[10,])\n",
        "dtype = w.dtype\n",
        "alpha = tf.math.reduce_min(w).numpy()\n",
        "beta = tf.math.reduce_max(w).numpy()\n",
        "print(f'type: {dtype}\\nalpha: {alpha}\\nbeta: {beta}')"
      ],
      "metadata": {
        "id": "Ai5gUP6aCOdo",
        "colab": {
          "base_uri": "https://localhost:8080/"
        },
        "outputId": "bc5c72f1-bb4e-420e-8140-8a5da7d11c2b"
      },
      "execution_count": 2,
      "outputs": [
        {
          "output_type": "stream",
          "name": "stdout",
          "text": [
            "type: <dtype: 'float32'>\n",
            "alpha: -0.5423163771629333\n",
            "beta: 0.8558766841888428\n"
          ]
        }
      ]
    },
    {
      "cell_type": "code",
      "source": [
        "def get_offsets(X, bit_width=8):\n",
        "    alpha = tf.math.reduce_min(w).numpy()\n",
        "    beta = tf.math.reduce_max(w).numpy()\n",
        "    alpha_q = 0\n",
        "    beta_q = 2 ** bit_width -1\n",
        "    s = (beta - alpha) / (beta_q - alpha_q)\n",
        "    z = (beta * alpha_q - alpha * beta_q) / (beta - alpha)\n",
        "    return s, z"
      ],
      "metadata": {
        "id": "Q2-Ohl_3XSdh"
      },
      "execution_count": 5,
      "outputs": []
    },
    {
      "cell_type": "code",
      "source": [
        " get_offsets(w)"
      ],
      "metadata": {
        "colab": {
          "base_uri": "https://localhost:8080/"
        },
        "id": "VnrXaHDJX1Ru",
        "outputId": "36fc23eb-343a-47d7-8ead-0650fe4eeff4"
      },
      "execution_count": 6,
      "outputs": [
        {
          "output_type": "execute_result",
          "data": {
            "text/plain": [
              "(0.005483110278260474, 98.90670616513373)"
            ]
          },
          "metadata": {},
          "execution_count": 6
        }
      ]
    },
    {
      "cell_type": "markdown",
      "source": [
        "## Model compression"
      ],
      "metadata": {
        "id": "Mk4IA7zi12ND"
      }
    },
    {
      "cell_type": "markdown",
      "source": [
        "$\n",
        "q(x;s,z,b)=clip\\left(round\\left(\\frac{x}{s}+z\\right);0,2^{b}-1\\right)\n",
        "$\n",
        "\n",
        "$\n",
        "clip=\n",
        "\\begin{cases}\n",
        "q_{min},\\quad x<q_{min}\\\\\n",
        "x,\\qquad \\ q_{min}<x<q_{max}\\\\\n",
        "q_{max},\\quad q_{max}<x\\\\\n",
        "\\end{cases}\n",
        "$"
      ],
      "metadata": {
        "id": "WGFjZPaBpWcd"
      }
    },
    {
      "cell_type": "code",
      "source": [
        "class Quantizer:\n",
        "    def __init__(self, bit_width:int = 8):\n",
        "        self.bit_width = bit_width\n",
        "        self.step_size = None\n",
        "        self.center = None\n",
        "\n",
        "    def quantizer(self, X):\n",
        "        X_min = tf.math.reduce_min(X)\n",
        "        X_max = tf.math.reduce_max(X)\n",
        "        Xq_min = 0\n",
        "        Xq_max = tf.cast(tf.math.pow(2, self.bit_width) - 1, 'float32')\n",
        "        self.step_size = (X_max - X_min) / (Xq_max - Xq_min)\n",
        "        self.center = tf.math.round((X_max * Xq_min - X_min * Xq_max) / (X_max - X_min))\n",
        "        print(self.step_size, self.center)\n",
        "        Xq = tf.clip_by_value(tf.math.add(tf.math.divide(X, self.step_size),\n",
        "                                          self.center), Xq_min, Xq_max)\n",
        "        return tf.cast(Xq, 'uint8')\n",
        "\n",
        "    def dequantizer(self, X):\n",
        "        X = tf.cast(X, tf.float32)\n",
        "        return self.step_size * (X - self.center)"
      ],
      "metadata": {
        "id": "BihcjiPn1wEP"
      },
      "execution_count": 7,
      "outputs": []
    },
    {
      "cell_type": "code",
      "source": [
        "quant = Quantizer()\n",
        "q = quant.quantizer(w)\n",
        "dq = quant.dequantizer(q)"
      ],
      "metadata": {
        "id": "buWXWhc4-eCc",
        "colab": {
          "base_uri": "https://localhost:8080/"
        },
        "outputId": "bdb29d0f-0f2a-4e70-cd72-a16d5b5c7494"
      },
      "execution_count": 8,
      "outputs": [
        {
          "output_type": "stream",
          "name": "stdout",
          "text": [
            "tf.Tensor(0.0054831104, shape=(), dtype=float32) tf.Tensor(99.0, shape=(), dtype=float32)\n"
          ]
        }
      ]
    },
    {
      "cell_type": "code",
      "source": [
        "print(q)"
      ],
      "metadata": {
        "colab": {
          "base_uri": "https://localhost:8080/"
        },
        "id": "DnTfiXMJuAFt",
        "outputId": "214c6fba-cf7b-46ca-b0a7-ee6372554f00"
      },
      "execution_count": 9,
      "outputs": [
        {
          "output_type": "stream",
          "name": "stdout",
          "text": [
            "tf.Tensor([255  32  36 148  16  89  95 103 169   0], shape=(10,), dtype=uint8)\n"
          ]
        }
      ]
    },
    {
      "cell_type": "code",
      "source": [
        "print(dq)"
      ],
      "metadata": {
        "colab": {
          "base_uri": "https://localhost:8080/"
        },
        "id": "bXS2qqLfuGya",
        "outputId": "da13ba2f-f078-4679-f214-e9831109758f"
      },
      "execution_count": 10,
      "outputs": [
        {
          "output_type": "stream",
          "name": "stdout",
          "text": [
            "tf.Tensor(\n",
            "[ 0.8553652  -0.3673684  -0.34543595  0.2686724  -0.45509815 -0.0548311\n",
            " -0.02193244  0.02193244  0.38381773 -0.5428279 ], shape=(10,), dtype=float32)\n"
          ]
        }
      ]
    },
    {
      "cell_type": "code",
      "source": [
        "diff = w - dq\n",
        "print(diff)"
      ],
      "metadata": {
        "colab": {
          "base_uri": "https://localhost:8080/"
        },
        "id": "amkY4oev4rpQ",
        "outputId": "0f034e72-a078-4ea7-b10f-a44f615e24dc"
      },
      "execution_count": 11,
      "outputs": [
        {
          "output_type": "stream",
          "name": "stdout",
          "text": [
            "tf.Tensor(\n",
            "[0.00051147 0.00152385 0.00542489 0.00491884 0.00147772 0.00544566\n",
            " 0.00107936 0.00014294 0.00387135 0.00051153], shape=(10,), dtype=float32)\n"
          ]
        }
      ]
    },
    {
      "cell_type": "code",
      "source": [
        ""
      ],
      "metadata": {
        "id": "hdPCIcIw41IN"
      },
      "execution_count": null,
      "outputs": []
    }
  ]
}