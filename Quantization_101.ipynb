{
  "nbformat": 4,
  "nbformat_minor": 0,
  "metadata": {
    "colab": {
      "name": "Quantization 101.ipynb",
      "provenance": [],
      "collapsed_sections": [],
      "authorship_tag": "ABX9TyO91eCVxAlXoQc0UtOiafoe"
    },
    "kernelspec": {
      "name": "python3",
      "display_name": "Python 3"
    },
    "language_info": {
      "name": "python"
    }
  },
  "cells": [
    {
      "cell_type": "markdown",
      "source": [
        "# Quantization 101\n",
        "## Image compression\n",
        "### Quantization\n",
        "$\n",
        "q(x;s,z)=round\\left(\\frac{x}{s}+z\\right),\\quad \\text{where }s,\\ z \\text{ are hyperparameter}\\\\\n",
        "$\n",
        "### Dequantization\n",
        "$\n",
        "x\\approx\\hat{x}=s\\cdot(q(x)-z)\\\\\n",
        "$\n",
        "#### $s$ and $z$ are calculated by system of equation \n",
        "$\n",
        "s = \\frac{\\beta-\\alpha}{\\beta_q-\\alpha_q}\\qquad\n",
        "z = \\frac{\\beta\\alpha_q-\\alpha\\beta_q}{\\beta-\\alpha}\n",
        "$"
      ],
      "metadata": {
        "id": "M9qSGV1tIUnZ"
      }
    },
    {
      "cell_type": "code",
      "source": [
        "import tensorflow as tf"
      ],
      "metadata": {
        "id": "MUGC1a4aXV3W"
      },
      "execution_count": 1,
      "outputs": []
    },
    {
      "cell_type": "markdown",
      "source": [
        "#### Initiate weight"
      ],
      "metadata": {
        "id": "t6BjrHCVJO4O"
      }
    },
    {
      "cell_type": "code",
      "source": [
        "w = tf.keras.initializers.VarianceScaling(scale=2, mode='fan_in')(shape=[15,])\n",
        "dtype = w.dtype\n",
        "alpha = tf.math.reduce_min(w).numpy()\n",
        "beta = tf.math.reduce_max(w).numpy()\n",
        "print(f'type: {dtype}\\nalpha: {alpha}\\nbeta: {beta}')"
      ],
      "metadata": {
        "id": "Ai5gUP6aCOdo",
        "colab": {
          "base_uri": "https://localhost:8080/"
        },
        "outputId": "3d6daebf-46c5-4a95-d87a-2e9c0e8c4262"
      },
      "execution_count": 2,
      "outputs": [
        {
          "output_type": "stream",
          "name": "stdout",
          "text": [
            "type: <dtype: 'float32'>\n",
            "alpha: -0.8072044849395752\n",
            "beta: 0.45924633741378784\n"
          ]
        }
      ]
    },
    {
      "cell_type": "markdown",
      "source": [
        "#### Calculate $s$ and $z$"
      ],
      "metadata": {
        "id": "QEm5T4fsy5Gn"
      }
    },
    {
      "cell_type": "code",
      "source": [
        "def get_sz(X, bit_width=8):\n",
        "    alpha = tf.math.reduce_min(w).numpy()\n",
        "    beta = tf.math.reduce_max(w).numpy()\n",
        "    alpha_q = 0\n",
        "    beta_q = 2 ** bit_width -1\n",
        "    s = (beta - alpha) / (beta_q - alpha_q)\n",
        "    z = (beta * alpha_q - alpha * beta_q) / (beta - alpha)\n",
        "    return s, z"
      ],
      "metadata": {
        "id": "Q2-Ohl_3XSdh"
      },
      "execution_count": 11,
      "outputs": []
    },
    {
      "cell_type": "code",
      "source": [
        "s, z = get_sz(w)\n",
        "print(f's: {s}\\nz: {z}')"
      ],
      "metadata": {
        "colab": {
          "base_uri": "https://localhost:8080/"
        },
        "id": "VnrXaHDJX1Ru",
        "outputId": "fbe61372-0462-4734-c90f-865443249d73"
      },
      "execution_count": 12,
      "outputs": [
        {
          "output_type": "stream",
          "name": "stdout",
          "text": [
            "s: 0.0049664740468941485\n",
            "z: 162.53069628831977\n"
          ]
        }
      ]
    },
    {
      "cell_type": "markdown",
      "source": [
        "## Model quantization"
      ],
      "metadata": {
        "id": "Mk4IA7zi12ND"
      }
    },
    {
      "cell_type": "markdown",
      "source": [
        "$\n",
        "q(x;s,z,b)=clip\\left(round\\left(\\frac{x}{s}+z\\right);0,2^{b}-1\\right),\\quad \\text{where }s,\\ z,\\ b \\text{ are hyperparameter}\n",
        "$\n",
        "\n",
        "$\n",
        "clip(x;q_L,q_H)=\n",
        "\\begin{cases}\n",
        "q_L,\\quad x<q_L\\\\\n",
        "x,\\quad \\ \\ q_L\\le x\\le q_H\\\\\n",
        "q_H,\\quad q_H<x\\\\\n",
        "\\end{cases}\n",
        "$"
      ],
      "metadata": {
        "id": "WGFjZPaBpWcd"
      }
    },
    {
      "cell_type": "code",
      "source": [
        "class Quantizer:\n",
        "    def __init__(self, bit_width:int = 8):\n",
        "        self.bit_width = bit_width\n",
        "        self.step_size = None\n",
        "        self.center = None\n",
        "\n",
        "    def quantizer(self, X):\n",
        "        X_min = tf.math.reduce_min(X)\n",
        "        X_max = tf.math.reduce_max(X)\n",
        "        Xq_min = 0\n",
        "        Xq_max = tf.cast(tf.math.pow(2, self.bit_width) - 1, 'float32')\n",
        "        self.step_size = (X_max - X_min) / (Xq_max - Xq_min)\n",
        "        self.center = tf.math.round((X_max * Xq_min - X_min * Xq_max) / (X_max - X_min))\n",
        "        print(self.step_size, self.center)\n",
        "        Xq = tf.clip_by_value(tf.math.add(tf.math.divide(X, self.step_size),\n",
        "                                          self.center), Xq_min, Xq_max)\n",
        "        return tf.cast(Xq, 'uint8')\n",
        "\n",
        "    def dequantizer(self, X):\n",
        "        X = tf.cast(X, tf.float32)\n",
        "        return self.step_size * (X - self.center)"
      ],
      "metadata": {
        "id": "BihcjiPn1wEP"
      },
      "execution_count": 5,
      "outputs": []
    },
    {
      "cell_type": "code",
      "source": [
        "quant = Quantizer()\n",
        "q = quant.quantizer(w)\n",
        "dq = quant.dequantizer(q)"
      ],
      "metadata": {
        "id": "buWXWhc4-eCc",
        "colab": {
          "base_uri": "https://localhost:8080/"
        },
        "outputId": "c126573c-08fd-4018-e31e-b6da610e9c98"
      },
      "execution_count": 6,
      "outputs": [
        {
          "output_type": "stream",
          "name": "stdout",
          "text": [
            "tf.Tensor(0.004966474, shape=(), dtype=float32) tf.Tensor(163.0, shape=(), dtype=float32)\n"
          ]
        }
      ]
    },
    {
      "cell_type": "markdown",
      "source": [
        "#### Quantization error"
      ],
      "metadata": {
        "id": "KVDYRR1ZzILh"
      }
    },
    {
      "cell_type": "code",
      "source": [
        "diff = w - dq\n",
        "print(diff)"
      ],
      "metadata": {
        "colab": {
          "base_uri": "https://localhost:8080/"
        },
        "id": "DnTfiXMJuAFt",
        "outputId": "501ed07d-e73c-414d-e572-b4f9a7a11aab"
      },
      "execution_count": 10,
      "outputs": [
        {
          "output_type": "stream",
          "name": "stdout",
          "text": [
            "tf.Tensor(\n",
            "[0.00233078 0.00200894 0.00316533 0.00284597 0.00184439 0.00357093\n",
            " 0.00233072 0.00277051 0.00047642 0.00436997 0.00341664 0.00368279\n",
            " 0.00462785 0.00264013 0.00195391], shape=(15,), dtype=float32)\n"
          ]
        }
      ]
    },
    {
      "cell_type": "code",
      "source": [
        ""
      ],
      "metadata": {
        "id": "hnD3pkEfueC8"
      },
      "execution_count": null,
      "outputs": []
    }
  ]
}