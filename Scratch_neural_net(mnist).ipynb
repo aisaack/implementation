{
  "nbformat": 4,
  "nbformat_minor": 0,
  "metadata": {
    "colab": {
      "name": "Scratch neural net(mnist).ipynb",
      "provenance": [],
      "collapsed_sections": [],
      "authorship_tag": "ABX9TyNQIPiK4O74ywhqFvytQd+p",
      "include_colab_link": true
    },
    "kernelspec": {
      "name": "python3",
      "display_name": "Python 3"
    },
    "language_info": {
      "name": "python"
    }
  },
  "cells": [
    {
      "cell_type": "markdown",
      "metadata": {
        "id": "view-in-github",
        "colab_type": "text"
      },
      "source": [
        "<a href=\"https://colab.research.google.com/github/aisaack/implementation/blob/main/Scratch_neural_net(mnist).ipynb\" target=\"_parent\"><img src=\"https://colab.research.google.com/assets/colab-badge.svg\" alt=\"Open In Colab\"/></a>"
      ]
    },
    {
      "cell_type": "markdown",
      "metadata": {
        "id": "XrWBDApLbNhH"
      },
      "source": [
        "# Scratch neural net with MNIST"
      ]
    },
    {
      "cell_type": "code",
      "metadata": {
        "id": "9gXe49XHz8Ax"
      },
      "source": [
        "class Model:\n",
        "  def __init__(self):\n",
        "    self.model = []\n",
        "\n",
        "  def add(self, X):\n",
        "    self.model.append(X)\n",
        "\n",
        "  def __call__(self, ):\n",
        "    return self.model"
      ],
      "execution_count": 2,
      "outputs": []
    },
    {
      "cell_type": "code",
      "metadata": {
        "id": "iUFnKokrLP-q"
      },
      "source": [
        "import numpy as np\n",
        "\n",
        "# Layer initialization\n",
        "# Layer should be contained within a list\n",
        "\n",
        "def layer(X: np.array, units: int, activation: str = None):\n",
        "    h, w = X.shape\n",
        "    if activation == 'relu':\n",
        "        weight = np.random.randn(w, units).astype('float32') * np.sqrt(2 / w) # He initialization\n",
        "    elif activation == 'tanh' or activation == 'softmax':\n",
        "        weight = np.random.randn(w, units).astype('float32') * np.sqrt(1 / w) # Xavier initialization\n",
        "    elif activation is None:\n",
        "        weight = np.random.randn(w, units).astype('float32') * 0.01 # AlexNet initialization\n",
        "    return weight"
      ],
      "execution_count": 52,
      "outputs": []
    },
    {
      "cell_type": "code",
      "metadata": {
        "id": "jEzVhZVLLWUn"
      },
      "source": [
        "# Activattion function\n",
        "\n",
        "def relu(X, props: str = 'fwd'):\n",
        "  \"\"\"X: input value\n",
        "     props: decides propagation direction e.g. fwd is forward and bwd is backward\n",
        "  \"\"\"\n",
        "  if props == 'fwd':\n",
        "      return np.maximum(0, X)\n",
        "  elif props == 'bwd':\n",
        "      return np.greater(0, X).astype(int)\n",
        "    \n",
        "def tanh(X, props: str = 'fwd'):\n",
        "  \"\"\"X: input value\n",
        "     props: decides propagation direction e.g. fwd is forward and bwd is backward\n",
        "  \"\"\"\n",
        "  if props == 'fwd':\n",
        "      return np.tanh(X)\n",
        "  elif props == 'bwd':\n",
        "      return 1 - np.square(np.tanh(X))\n",
        "\n",
        "def softmax(X):\n",
        "  \"\"\"I didn't do backward pass because it's much efficient computing derivative when cross entropy is calculated.\n",
        "  \"\"\"\n",
        "  score = np.exp(X - np.max(X))\n",
        "  return score / np.sum(score, axis = 1, keepdims = True)"
      ],
      "execution_count": 4,
      "outputs": []
    },
    {
      "cell_type": "code",
      "metadata": {
        "id": "kFt2yeTgLX5Y"
      },
      "source": [
        "# Cost function\n",
        "\n",
        "def cross_entropy(X, Y, props: str = 'fwd'):\n",
        "  \"\"\"X: input value\n",
        "     Y: label\n",
        "     props: decides propagation direction e.g. fwd is forward and bwd is backward\n",
        "  \"\"\"\n",
        "  n = len(X)\n",
        "  if props == 'fwd':\n",
        "      likelyhood = -np.log(X[range(n), Y])\n",
        "      return np.sum(likelyhood) / n\n",
        "  elif props == 'bwd':\n",
        "      X[range(n), Y] -= 1\n",
        "      return X / n\n",
        "\n",
        "def sse(X, Y, props: str = 'fwd'):\n",
        "  \"\"\"X: input value\n",
        "     Y: label\n",
        "     props: decides propagation direction e.g. fwd is forward and bwd is backward\n",
        "  \"\"\"\n",
        "  if props == 'fwd':\n",
        "      return 0.5 * np.square(X - Y)\n",
        "  elif props == 'bwd':\n",
        "      return X - Y"
      ],
      "execution_count": 5,
      "outputs": []
    },
    {
      "cell_type": "code",
      "metadata": {
        "id": "XRQTkEgZLdda"
      },
      "source": [
        "def forward(X, w, activation: str = None):\n",
        "  d = X.dot(w)\n",
        "  if activation == 'relu':\n",
        "      a = relu(d)\n",
        "  elif activation == 'tanh':\n",
        "      a = tanh(d)\n",
        "  elif activation == 'softmax':\n",
        "      a = softmax(d)\n",
        "  elif activation == None:\n",
        "      a = d\n",
        "  cache = a, d\n",
        "  return a, cache\n",
        "\n",
        "def backward(upstream, cache, w, activation: str = None):\n",
        "  c1, c2 = cache\n",
        "  local = upstream.dot(w.T)\n",
        "  if activation == 'relu':\n",
        "      upstream = local * relu(c2[1], 'bwd')\n",
        "  elif activation == 'tanh':\n",
        "      upstream = local * tanh(c2[1], 'bwd')\n",
        "  elif activation is None:\n",
        "      upstream = local\n",
        "  grad = c1[0].T.dot(upstream)\n",
        "  return grad, upstream"
      ],
      "execution_count": 6,
      "outputs": []
    },
    {
      "cell_type": "code",
      "metadata": {
        "id": "xV9PRZEuLgYg"
      },
      "source": [
        "def momentum(weight, grad, cache: dict, lr = 1e-3, mu = 0.9):\n",
        "  if len(cache) == 0:\n",
        "      for layer in range(len(grad)):\n",
        "          v = -lr * grad[layer]\n",
        "          cache.append(v)\n",
        "          weight[layer] = weight[layer] + v\n",
        "  else:\n",
        "      for layer in range(len(grad)):\n",
        "          v = mu * cache[layer] - lr * grad[layer]\n",
        "          cache[layer] = v\n",
        "          weight[layer] = weight[layer] + v"
      ],
      "execution_count": 7,
      "outputs": []
    },
    {
      "cell_type": "code",
      "metadata": {
        "id": "jsmCLp4oLj2w"
      },
      "source": [
        "def fit(x, y, epochs: int, activation: str, params: list, lr: float = 1e-2, mu: float = 0.9, batch_size: int = None, validation_x = None, validation_y = None):\n",
        "    cache = []\n",
        "    vel = []\n",
        "    loss = []\n",
        "    val_loss = []\n",
        "    grad = [np.zeros_like(layer) for layer in params]\n",
        "    if batch_size is None:\n",
        "      batch_size = len(x)\n",
        "    mini_batch = len(x) // batch_size\n",
        "    idx = np.arange(len(x))\n",
        "    if validation_x  is not None and validation_y is not None:\n",
        "      n_val = len(validation_x)\n",
        "      val_idx = np.arange(n_val)\n",
        "      val_batch_size = n_val // mini_batch\n",
        "    \n",
        "    print(f'epochs: {epochs},         mini batch: {mini_batch}')\n",
        "    for epoch in range(epochs):\n",
        "        if validation_x is not None and validation_y is not None:\n",
        "          np.random.shuffle(val_idx)\n",
        "          tmp_val_x = validation_x[val_idx]\n",
        "          tmp_val_y = validation_y[val_idx]\n",
        "          \n",
        "\n",
        "        np.random.shuffle(idx)\n",
        "        tmp_x = x[idx]\n",
        "        tmp_y = y[idx]\n",
        "        if epoch % 1 == 0:\n",
        "          print(f'\\nepoch: {epoch+1}')\n",
        "\n",
        "        for step in range(mini_batch):\n",
        "          if validation_x is not None and validation_y is not None:\n",
        "            # get_validation_data\n",
        "            mini_batch_val_x = tmp_val_x[step * val_batch_size:(1+step) * val_batch_size]\n",
        "            mini_batch_val_y = tmp_val_y[step * val_batch_size:(1+step) * val_batch_size]\n",
        "          # get_train_data\n",
        "          mini_batch_x = tmp_x[step * batch_size:(1+step) * batch_size]\n",
        "          mini_batch_y = tmp_y[step * batch_size:(1+step) * batch_size]\n",
        "          \n",
        "          # forward pass\n",
        "          X, c = forward(mini_batch_x, params[0], activation)\n",
        "          cache.append(c)\n",
        "          for layer in range(1, len(params)-1):\n",
        "              X, c = forward(X, params[layer], activation)\n",
        "              cache.append(c)\n",
        "          X, c = forward(X, params[-1], 'softmax')\n",
        "          cache.append(c)\n",
        "\n",
        "          # validation\n",
        "          X_val, _ = forward(mini_batch_val_x, params[0], activation)\n",
        "          for layer in range(1, len(params)-1):\n",
        "              X_val, _ = forward(X_val, params[layer], activation)\n",
        "          X_val, _ = forward(X_val, params[-1], 'softmax')\n",
        "          v_cost = cross_entropy(X_val, mini_batch_val_y, 'fwd')\n",
        "          val_loss.append(v_cost)\n",
        "\n",
        "          # loss calculation\n",
        "          cost = cross_entropy(X, mini_batch_y, 'fwd')\n",
        "          loss.append(cost)\n",
        "\n",
        "          # backward pass\n",
        "          upstream = cross_entropy(X, mini_batch_y, 'bwd')\n",
        "          grad[-1] = cache[-2][0].T.dot(upstream)\n",
        "          for layer in range(len(grad)-2, 0, -1):\n",
        "              grad[layer], upstream = backward(upstream, cache[layer-1:layer+1], params[layer+1], 'relu')\n",
        "          local = upstream.dot(params[1].T)\n",
        "          upstream = local * relu(cache[0][1], 'bwd')\n",
        "          grad[0] = mini_batch_x.T.dot(upstream)\n",
        "\n",
        "          # SGD momentum optimizer\n",
        "          momentum(params, grad, cache = vel, lr=lr, mu=0.9)\n",
        "          if step % 15 == 0:\n",
        "            print(f'step: {step+1}            train loss: {cost}               val loss:{v_cost}')\n",
        "    return loss, val_loss"
      ],
      "execution_count": 23,
      "outputs": []
    },
    {
      "cell_type": "markdown",
      "metadata": {
        "id": "otrnTSCJeqDA"
      },
      "source": [
        "## Preparing dataset"
      ]
    },
    {
      "cell_type": "code",
      "metadata": {
        "id": "iYaRMF0ignXA"
      },
      "source": [
        "import tensorflow as tf\n",
        "mnist = tf.keras.datasets.mnist"
      ],
      "execution_count": 12,
      "outputs": []
    },
    {
      "cell_type": "code",
      "metadata": {
        "id": "MAFmXzy5g5mu",
        "colab": {
          "base_uri": "https://localhost:8080/"
        },
        "outputId": "2757b4a6-40c8-4278-ec1b-15227ddfcafd"
      },
      "source": [
        "(x_train, y_train), (x_test, y_test) = mnist.load_data()\n",
        "print(x_train.shape, x_test.shape)\n",
        "print(y_train.shape, y_test.shape)"
      ],
      "execution_count": 13,
      "outputs": [
        {
          "output_type": "stream",
          "text": [
            "Downloading data from https://storage.googleapis.com/tensorflow/tf-keras-datasets/mnist.npz\n",
            "11493376/11490434 [==============================] - 0s 0us/step\n",
            "(60000, 28, 28) (10000, 28, 28)\n",
            "(60000,) (10000,)\n"
          ],
          "name": "stdout"
        }
      ]
    },
    {
      "cell_type": "markdown",
      "metadata": {
        "id": "KAmw1li-fzm6"
      },
      "source": [
        "### Normalize"
      ]
    },
    {
      "cell_type": "code",
      "metadata": {
        "id": "D9vSx-JBhiVP"
      },
      "source": [
        "x_train, x_test = x_train / 255.0, x_test / 255.0"
      ],
      "execution_count": 14,
      "outputs": []
    },
    {
      "cell_type": "markdown",
      "metadata": {
        "id": "MU7h4xAZfsq-"
      },
      "source": [
        "### Spliting training / validation set"
      ]
    },
    {
      "cell_type": "code",
      "metadata": {
        "id": "Wmfvc442dCyA"
      },
      "source": [
        "X_train, X_val = x_train[:50000], x_train[50000:]\n",
        "Y_train, Y_val = y_train[:50000], y_train[50000:]"
      ],
      "execution_count": 15,
      "outputs": []
    },
    {
      "cell_type": "markdown",
      "metadata": {
        "id": "F0ysBffygEtS"
      },
      "source": [
        "### Image matrices to vecor"
      ]
    },
    {
      "cell_type": "code",
      "metadata": {
        "id": "Zht-f2x5h2kH"
      },
      "source": [
        "def flatten(X):\n",
        "  n = X.shape[0]\n",
        "  return X.reshape(n, -1)\n",
        "X_trn = flatten(X_train)\n",
        "X_val = flatten(X_val)"
      ],
      "execution_count": 16,
      "outputs": []
    },
    {
      "cell_type": "markdown",
      "metadata": {
        "id": "ilDbBN-5gBs8"
      },
      "source": [
        "Creating a model object that contains weight matrices"
      ]
    },
    {
      "cell_type": "code",
      "metadata": {
        "id": "San0fVgrhV04"
      },
      "source": [
        "model_tanh= Model()\n",
        "model_tanh.add(layer(X_trn, units = 128, activation = 'tanh'))\n",
        "model_tanh.add(layer(model_tanh.model[-1], units = 64, activation = 'tanh'))\n",
        "model_tanh.add(layer(model_tanh.model[-1], units = 10, activation = 'softmax'))"
      ],
      "execution_count": 44,
      "outputs": []
    },
    {
      "cell_type": "code",
      "metadata": {
        "id": "nMw-gcfAjHUk",
        "colab": {
          "base_uri": "https://localhost:8080/"
        },
        "outputId": "d8a9d27e-b224-44eb-c1ce-a9f8aadab304"
      },
      "source": [
        "train_tanh, val_tanh = fit(X_trn, Y_train, activation = 'tanh', params = model_tanh.model, validation_x = X_val, validation_y =Y_val, epochs = 10, batch_size = 256)"
      ],
      "execution_count": 46,
      "outputs": [
        {
          "output_type": "stream",
          "text": [
            "epochs: 10,         mini batch: 195\n",
            "\n",
            "epoch: 1\n",
            "step: 1            train loss: 2.345575364197249               val loss:2.330477505032548\n",
            "step: 16            train loss: 2.1033669449588475               val loss:2.1675287617379713\n",
            "step: 31            train loss: 1.8473306435409487               val loss:1.6928141169932776\n",
            "step: 46            train loss: 1.5227460204895475               val loss:1.4793161229809237\n",
            "step: 61            train loss: 1.2240355752142804               val loss:1.2193453299071098\n",
            "step: 76            train loss: 1.006019906793484               val loss:1.0896148029615567\n",
            "step: 91            train loss: 1.0316981619186263               val loss:1.0783964654370588\n",
            "step: 106            train loss: 0.7954587571927462               val loss:0.7759632572511863\n",
            "step: 121            train loss: 0.7992955462435682               val loss:0.7945294364456175\n",
            "step: 136            train loss: 0.6976019865127933               val loss:0.6248617282140033\n",
            "step: 151            train loss: 0.6678444431221313               val loss:0.6473772604754641\n",
            "step: 166            train loss: 0.5852700065109724               val loss:0.8457351603772844\n",
            "step: 181            train loss: 0.5708681052743756               val loss:0.42300677235414896\n",
            "\n",
            "epoch: 2\n",
            "step: 1            train loss: 0.5534437825760159               val loss:0.35705854929232383\n",
            "step: 16            train loss: 0.5120158330867399               val loss:0.5526568901454421\n",
            "step: 31            train loss: 0.5709917262239537               val loss:0.5100807278704975\n",
            "step: 46            train loss: 0.5044556458769217               val loss:0.40647380905951536\n",
            "step: 61            train loss: 0.49813519762678893               val loss:0.4251242885075449\n",
            "step: 76            train loss: 0.5500138327511411               val loss:0.3402602685669324\n",
            "step: 91            train loss: 0.4386886357350329               val loss:0.48539765811487334\n",
            "step: 106            train loss: 0.48520842874240844               val loss:0.2805236378803071\n",
            "step: 121            train loss: 0.5267104465690171               val loss:0.3431263065042045\n",
            "step: 136            train loss: 0.4648959845206453               val loss:0.506120039792079\n",
            "step: 151            train loss: 0.5054156675214616               val loss:0.26323535114167235\n",
            "step: 166            train loss: 0.4514407392444152               val loss:0.3166228984716986\n",
            "step: 181            train loss: 0.42084146473968354               val loss:0.41083643538837084\n",
            "\n",
            "epoch: 3\n",
            "step: 1            train loss: 0.4184239995834654               val loss:0.42534232602138095\n",
            "step: 16            train loss: 0.4800606109982025               val loss:0.5127348051321484\n",
            "step: 31            train loss: 0.3649069047087815               val loss:0.4227035077824522\n",
            "step: 46            train loss: 0.3747211006442197               val loss:0.24700658142978021\n",
            "step: 61            train loss: 0.4673007957211297               val loss:0.23099383990270078\n",
            "step: 76            train loss: 0.3426044878343598               val loss:0.32902338706749373\n",
            "step: 91            train loss: 0.40639853497767353               val loss:0.5134055073382031\n",
            "step: 106            train loss: 0.4168686403169595               val loss:0.3013876884275402\n",
            "step: 121            train loss: 0.3743081467388979               val loss:0.4551115788989887\n",
            "step: 136            train loss: 0.3810908590220591               val loss:0.5583650268723362\n",
            "step: 151            train loss: 0.40719043579045155               val loss:0.3301893845093812\n",
            "step: 166            train loss: 0.3049769447203795               val loss:0.2471282360171653\n",
            "step: 181            train loss: 0.4220138234658837               val loss:0.3646737116400967\n",
            "\n",
            "epoch: 4\n",
            "step: 1            train loss: 0.3779371759803211               val loss:0.5022296447131993\n",
            "step: 16            train loss: 0.4403476018882131               val loss:0.291004820793864\n",
            "step: 31            train loss: 0.34686901282814553               val loss:0.7415758745629469\n",
            "step: 46            train loss: 0.4403838058384751               val loss:0.42899907681683164\n",
            "step: 61            train loss: 0.3391695761565351               val loss:0.28794603754949827\n",
            "step: 76            train loss: 0.30214533607288496               val loss:0.26324624054768947\n",
            "step: 91            train loss: 0.34409464513950316               val loss:0.3874085767295087\n",
            "step: 106            train loss: 0.3499339936735284               val loss:0.2693370134220065\n",
            "step: 121            train loss: 0.3411995884265054               val loss:0.4640449148059225\n",
            "step: 136            train loss: 0.36060945328484983               val loss:0.32248936101567693\n",
            "step: 151            train loss: 0.3807596948886786               val loss:0.5254344883197991\n",
            "step: 166            train loss: 0.2824518528816653               val loss:0.23860874341469868\n",
            "step: 181            train loss: 0.3607190519240191               val loss:0.1908783539173988\n",
            "\n",
            "epoch: 5\n",
            "step: 1            train loss: 0.36807100157705586               val loss:0.15486708412502004\n",
            "step: 16            train loss: 0.3611042123053256               val loss:0.24888609217182875\n",
            "step: 31            train loss: 0.3552208868632613               val loss:0.3213418939746558\n",
            "step: 46            train loss: 0.3364426909393182               val loss:0.4798131802599045\n",
            "step: 61            train loss: 0.36152770975435006               val loss:0.46796513276720414\n",
            "step: 76            train loss: 0.4623252327774242               val loss:0.31303457005554847\n",
            "step: 91            train loss: 0.4243354594017258               val loss:0.37323739590077776\n",
            "step: 106            train loss: 0.25839149126119565               val loss:0.45076151164204764\n",
            "step: 121            train loss: 0.37895728456205935               val loss:0.5007895366393598\n",
            "step: 136            train loss: 0.3132086003074961               val loss:0.11324401233781127\n",
            "step: 151            train loss: 0.41178720014348863               val loss:0.21827196771241436\n",
            "step: 166            train loss: 0.3910742118440179               val loss:0.2896906914235454\n",
            "step: 181            train loss: 0.36840493560937704               val loss:0.285658451623566\n",
            "\n",
            "epoch: 6\n",
            "step: 1            train loss: 0.46093849338070236               val loss:0.35858919309555837\n",
            "step: 16            train loss: 0.31616983810895793               val loss:0.5206037743638754\n",
            "step: 31            train loss: 0.3056340084686149               val loss:0.22043730485650678\n",
            "step: 46            train loss: 0.35444885499277               val loss:0.30974013786155674\n",
            "step: 61            train loss: 0.4058047028389862               val loss:0.25238495995396787\n",
            "step: 76            train loss: 0.35149010205306797               val loss:0.5742944418148875\n",
            "step: 91            train loss: 0.2885284692452895               val loss:0.22821992396425606\n",
            "step: 106            train loss: 0.3928749238080686               val loss:0.5289946449617845\n",
            "step: 121            train loss: 0.27525531806130143               val loss:0.6274185033657846\n",
            "step: 136            train loss: 0.34802705813210644               val loss:0.16884510606802758\n",
            "step: 151            train loss: 0.28779807944821456               val loss:0.4219744167249431\n",
            "step: 166            train loss: 0.30871262617037787               val loss:0.17316893453680954\n",
            "step: 181            train loss: 0.33167425442721044               val loss:0.3123857376706034\n",
            "\n",
            "epoch: 7\n",
            "step: 1            train loss: 0.2670014676565995               val loss:0.41115419760589544\n",
            "step: 16            train loss: 0.2824024752087675               val loss:0.18324433490638956\n",
            "step: 31            train loss: 0.2521564061263595               val loss:0.3912435640005505\n",
            "step: 46            train loss: 0.36556461326193135               val loss:0.3473034759670432\n",
            "step: 61            train loss: 0.4313799644704209               val loss:0.2771540813909595\n",
            "step: 76            train loss: 0.2643254742382221               val loss:0.2112919716177486\n",
            "step: 91            train loss: 0.29519494133858304               val loss:0.18483855746994549\n",
            "step: 106            train loss: 0.33714262443537035               val loss:0.1562077402427112\n",
            "step: 121            train loss: 0.3065597086609162               val loss:0.41431308636911846\n",
            "step: 136            train loss: 0.29556650052278355               val loss:0.16111112851513396\n",
            "step: 151            train loss: 0.35891195799050063               val loss:0.14142719018694386\n",
            "step: 166            train loss: 0.3669344606793261               val loss:0.13694895115209205\n",
            "step: 181            train loss: 0.4078684431019921               val loss:0.3764435378051486\n",
            "\n",
            "epoch: 8\n",
            "step: 1            train loss: 0.34988339217268205               val loss:0.3923287591348834\n",
            "step: 16            train loss: 0.31735729594217116               val loss:0.3464643056141017\n",
            "step: 31            train loss: 0.3359965354359744               val loss:0.32889553177654257\n",
            "step: 46            train loss: 0.35605869694012715               val loss:0.1859005322462676\n",
            "step: 61            train loss: 0.3260993317384586               val loss:0.5166677272318256\n",
            "step: 76            train loss: 0.31434898569163466               val loss:0.15330009278482737\n",
            "step: 91            train loss: 0.31279270901251366               val loss:0.2333335641842893\n",
            "step: 106            train loss: 0.34742421962870595               val loss:0.3517968823411935\n",
            "step: 121            train loss: 0.26610961750038065               val loss:0.26928148998790347\n",
            "step: 136            train loss: 0.35230481116068807               val loss:0.61891415554174\n",
            "step: 151            train loss: 0.24290271861248575               val loss:0.3132537707958809\n",
            "step: 166            train loss: 0.41657957494388576               val loss:0.3344792286362733\n",
            "step: 181            train loss: 0.31304445091296024               val loss:0.4292322985025666\n",
            "\n",
            "epoch: 9\n",
            "step: 1            train loss: 0.3692282253901302               val loss:0.2696460452320104\n",
            "step: 16            train loss: 0.33206071442117846               val loss:0.3202886450970895\n",
            "step: 31            train loss: 0.40018119454153833               val loss:0.25707907646928563\n",
            "step: 46            train loss: 0.30551286825182544               val loss:0.26086297004958936\n",
            "step: 61            train loss: 0.30519722853859155               val loss:0.47111773711404326\n",
            "step: 76            train loss: 0.439729715747181               val loss:0.2519780722366609\n",
            "step: 91            train loss: 0.23506309166248623               val loss:0.19569311665119735\n",
            "step: 106            train loss: 0.4575718967482473               val loss:0.4305546258550306\n",
            "step: 121            train loss: 0.35132846995653516               val loss:0.19462037513272934\n",
            "step: 136            train loss: 0.3447520462983218               val loss:0.17628393661445182\n",
            "step: 151            train loss: 0.3031797077081267               val loss:0.35630386058601393\n",
            "step: 166            train loss: 0.30908567500025264               val loss:0.21689007618221123\n",
            "step: 181            train loss: 0.42179319492120937               val loss:0.23924614371796415\n",
            "\n",
            "epoch: 10\n",
            "step: 1            train loss: 0.3139648060362881               val loss:0.13998565700109847\n",
            "step: 16            train loss: 0.26705617813943006               val loss:0.09114001057514913\n",
            "step: 31            train loss: 0.30200554166421084               val loss:0.22820448407323193\n",
            "step: 46            train loss: 0.2536689895599593               val loss:0.18392057977279963\n",
            "step: 61            train loss: 0.3069806583863063               val loss:0.40681488082154305\n",
            "step: 76            train loss: 0.3465603339814862               val loss:0.17972637449196027\n",
            "step: 91            train loss: 0.21452906957696827               val loss:0.4169995887938257\n",
            "step: 106            train loss: 0.480622410748474               val loss:0.24987462583879855\n",
            "step: 121            train loss: 0.22791290252545687               val loss:0.352168820906879\n",
            "step: 136            train loss: 0.3948027030145893               val loss:0.26327709118998066\n",
            "step: 151            train loss: 0.295306253284118               val loss:0.3516265004100333\n",
            "step: 166            train loss: 0.31463627718944776               val loss:0.2397163604709399\n",
            "step: 181            train loss: 0.3961128436372572               val loss:0.34670442294510717\n"
          ],
          "name": "stdout"
        }
      ]
    },
    {
      "cell_type": "code",
      "metadata": {
        "colab": {
          "base_uri": "https://localhost:8080/",
          "height": 295
        },
        "id": "u3mv6sokfiJ5",
        "outputId": "056f2a47-b4a4-4e1a-8fa9-4c5883f4028c"
      },
      "source": [
        "import matplotlib.pyplot as plt\n",
        "plt.plot(np.arange(len(val_tanh)), val_tanh, label = 'Val loss')\n",
        "plt.plot(np.arange(len(train_tanh)), train_tanh, label = 'Train loss')\n",
        "plt.ylabel('Loss')\n",
        "plt.xlabel('Iteration')\n",
        "plt.legend()\n",
        "plt.title('Tanh')\n",
        "plt.show()"
      ],
      "execution_count": 47,
      "outputs": [
        {
          "output_type": "display_data",
          "data": {
            "image/png": "[encoded data removed]",
            "text/plain": [
              "<Figure size 432x288 with 1 Axes>"
            ]
          },
          "metadata": {
            "tags": [],
            "needs_background": "light"
          }
        }
      ]
    },
    {
      "cell_type": "code",
      "metadata": {
        "id": "ztspPpqVLmUZ"
      },
      "source": [
        "def predict(x, activation:str, params: list):\n",
        "    X, _ = forward(x, params[0], activation)\n",
        "    for layer in range(1, len(params)-1):\n",
        "        X, _ = forward(X, params[layer], activation)\n",
        "    X, _ = forward(X, params[-1], 'softmax')\n",
        "    out = np.argmax(X, axis = 1)\n",
        "    return out"
      ],
      "execution_count": 32,
      "outputs": []
    },
    {
      "cell_type": "code",
      "metadata": {
        "colab": {
          "base_uri": "https://localhost:8080/"
        },
        "id": "jIUFTXcB7fRf",
        "outputId": "f59d4b17-0d24-4431-ac74-fc3d05e864d7"
      },
      "source": [
        "predict(flatten(x_test[30:40]), activation = 'tanh', params = model.model)"
      ],
      "execution_count": 41,
      "outputs": [
        {
          "output_type": "execute_result",
          "data": {
            "text/plain": [
              "array([3, 1, 3, 0, 7, 2, 7, 1, 2, 1])"
            ]
          },
          "metadata": {
            "tags": []
          },
          "execution_count": 41
        }
      ]
    },
    {
      "cell_type": "code",
      "metadata": {
        "colab": {
          "base_uri": "https://localhost:8080/"
        },
        "id": "r8bBN0M28DwS",
        "outputId": "1525b28b-1a46-4c1a-95f8-0a56994347fc"
      },
      "source": [
        "y_test[30:40]"
      ],
      "execution_count": 42,
      "outputs": [
        {
          "output_type": "execute_result",
          "data": {
            "text/plain": [
              "array([3, 1, 3, 4, 7, 2, 7, 1, 2, 1], dtype=uint8)"
            ]
          },
          "metadata": {
            "tags": []
          },
          "execution_count": 42
        }
      ]
    },
    {
      "cell_type": "code",
      "metadata": {
        "id": "90CgAaDDggOt"
      },
      "source": [
        "model_relu= Model()\n",
        "model_relu.add(layer(X_trn, units = 128, activation = 'relu'))\n",
        "model_relu.add(layer(model_relu.model[-1], units = 64, activation = 'relu'))\n",
        "model_relu.add(layer(model_relu.model[-1], units = 10, activation = 'softmax'))"
      ],
      "execution_count": 55,
      "outputs": []
    },
    {
      "cell_type": "code",
      "metadata": {
        "colab": {
          "base_uri": "https://localhost:8080/"
        },
        "id": "8muRRvW6ghMA",
        "outputId": "2a5998f1-a560-4260-9f96-6132f53e478b"
      },
      "source": [
        "train_relu, val_relu = fit(X_trn, Y_train, activation = 'relu', params = model_relu.model, validation_x = X_val, validation_y =Y_val, epochs = 10, batch_size = 256)"
      ],
      "execution_count": 56,
      "outputs": [
        {
          "output_type": "stream",
          "text": [
            "epochs: 10,         mini batch: 195\n",
            "\n",
            "epoch: 1\n",
            "step: 1            train loss: 2.4316136805337267               val loss:2.331502910448819\n",
            "step: 16            train loss: 2.2879709987932704               val loss:2.2721806730762677\n",
            "step: 31            train loss: 2.104811300730267               val loss:2.1657659004165706\n",
            "step: 46            train loss: 1.9498114979610746               val loss:1.8677089205574942\n",
            "step: 61            train loss: 1.7051623960340432               val loss:1.6824602481750457\n",
            "step: 76            train loss: 1.529349363197687               val loss:1.4403679881801836\n",
            "step: 91            train loss: 1.31997488965496               val loss:1.4957922756692874\n",
            "step: 106            train loss: 1.1838558424458328               val loss:1.2379282969367387\n",
            "step: 121            train loss: 0.975289298754499               val loss:0.8989553256854442\n",
            "step: 136            train loss: 0.8954084800388787               val loss:0.9051929688277124\n",
            "step: 151            train loss: 0.948641051151724               val loss:0.8700038775218147\n",
            "step: 166            train loss: 0.7949319527048737               val loss:0.6830869780208056\n",
            "step: 181            train loss: 0.695806479507812               val loss:0.734632703161995\n",
            "\n",
            "epoch: 2\n",
            "step: 1            train loss: 0.6597248796952628               val loss:0.7599845392030989\n",
            "step: 16            train loss: 0.6689875014366539               val loss:0.6103323860350546\n",
            "step: 31            train loss: 0.6122645662093902               val loss:0.3587594641756272\n",
            "step: 46            train loss: 0.6769057126580936               val loss:0.6634728236110398\n",
            "step: 61            train loss: 0.5686297916171956               val loss:0.4216941038321213\n",
            "step: 76            train loss: 0.5646448864829402               val loss:0.5626874296324119\n",
            "step: 91            train loss: 0.5367418097581094               val loss:0.4050478554365301\n",
            "step: 106            train loss: 0.5152781605899963               val loss:0.6418122864496866\n",
            "step: 121            train loss: 0.47883722182187755               val loss:0.38645731875686123\n",
            "step: 136            train loss: 0.4399185390386948               val loss:0.5398357616923608\n",
            "step: 151            train loss: 0.480879908434824               val loss:0.4765322093091309\n",
            "step: 166            train loss: 0.4284117565912656               val loss:0.21809475733109493\n",
            "step: 181            train loss: 0.49544127721958514               val loss:0.4802555628481577\n",
            "\n",
            "epoch: 3\n",
            "step: 1            train loss: 0.4451269811566282               val loss:0.3499017140925591\n",
            "step: 16            train loss: 0.36595100367118355               val loss:0.37024196340271776\n",
            "step: 31            train loss: 0.3843031534534461               val loss:0.4243439467525308\n",
            "step: 46            train loss: 0.4781879759442007               val loss:0.3615655247430645\n",
            "step: 61            train loss: 0.4994173788907282               val loss:0.3650861538126792\n",
            "step: 76            train loss: 0.48397808250497365               val loss:0.2462979257012693\n",
            "step: 91            train loss: 0.41528619465835326               val loss:0.405481455834224\n",
            "step: 106            train loss: 0.4204103002195572               val loss:0.4626590541378803\n",
            "step: 121            train loss: 0.39736200729926724               val loss:0.6864774646441232\n",
            "step: 136            train loss: 0.33043036643384127               val loss:0.3583940247008063\n",
            "step: 151            train loss: 0.45209034198881987               val loss:0.2769345943192798\n",
            "step: 166            train loss: 0.40539356173181285               val loss:0.4263763266055805\n",
            "step: 181            train loss: 0.4100695074315418               val loss:0.4299042831126603\n",
            "\n",
            "epoch: 4\n",
            "step: 1            train loss: 0.3346346087096026               val loss:0.20215981973964464\n",
            "step: 16            train loss: 0.40412853321568976               val loss:0.24897501954466073\n",
            "step: 31            train loss: 0.4930947592209071               val loss:0.42987988384538667\n",
            "step: 46            train loss: 0.44309984801361413               val loss:0.4279524334133195\n",
            "step: 61            train loss: 0.4096639929942749               val loss:0.29767327741839233\n",
            "step: 76            train loss: 0.3192247016587824               val loss:0.3723561573179043\n",
            "step: 91            train loss: 0.3812803466078952               val loss:0.3058003247081918\n",
            "step: 106            train loss: 0.47124311445319333               val loss:0.4442793258721907\n",
            "step: 121            train loss: 0.37575404258786654               val loss:0.3034420209816033\n",
            "step: 136            train loss: 0.4758529333342254               val loss:0.5852328259234506\n",
            "step: 151            train loss: 0.42873938204758394               val loss:0.31266087746047677\n",
            "step: 166            train loss: 0.4977341014966927               val loss:0.2814884238076712\n",
            "step: 181            train loss: 0.3816937575986597               val loss:0.15788259450357747\n",
            "\n",
            "epoch: 5\n",
            "step: 1            train loss: 0.2997437103881699               val loss:0.3910145226548035\n",
            "step: 16            train loss: 0.3028898194139701               val loss:0.22784981293089432\n",
            "step: 31            train loss: 0.3850754954521075               val loss:0.49050523423001535\n",
            "step: 46            train loss: 0.3707750834704935               val loss:0.2353409742835985\n",
            "step: 61            train loss: 0.3644447476505406               val loss:0.2916864375625678\n",
            "step: 76            train loss: 0.35479037301241556               val loss:0.2759384090691517\n",
            "step: 91            train loss: 0.32979252599093156               val loss:0.21609378374308355\n",
            "step: 106            train loss: 0.43713256911614845               val loss:0.31654800899392227\n",
            "step: 121            train loss: 0.36937076522566537               val loss:0.45124176330917753\n",
            "step: 136            train loss: 0.3402709326550325               val loss:0.3872319518951101\n",
            "step: 151            train loss: 0.31795933519745084               val loss:0.1864719314023546\n",
            "step: 166            train loss: 0.36829861369702727               val loss:0.24581666534999688\n",
            "step: 181            train loss: 0.3697609232071894               val loss:0.351279230913718\n",
            "\n",
            "epoch: 6\n",
            "step: 1            train loss: 0.32039674122197215               val loss:0.35401364423846005\n",
            "step: 16            train loss: 0.37308648384917725               val loss:0.29388982541145076\n",
            "step: 31            train loss: 0.35427156345005373               val loss:0.42972895138093603\n",
            "step: 46            train loss: 0.3485372446368006               val loss:0.14322703223443597\n",
            "step: 61            train loss: 0.32234558101116206               val loss:0.1735191199959349\n",
            "step: 76            train loss: 0.2396944650677317               val loss:0.10591288640898452\n",
            "step: 91            train loss: 0.25521899396939574               val loss:0.3168587681579294\n",
            "step: 106            train loss: 0.3545296183254037               val loss:0.32649348124688293\n",
            "step: 121            train loss: 0.2716385456005347               val loss:0.37214870925763177\n",
            "step: 136            train loss: 0.3130467013309872               val loss:0.2038095501681921\n",
            "step: 151            train loss: 0.39912794889820125               val loss:0.5314388118192419\n",
            "step: 166            train loss: 0.3350916190042902               val loss:0.235972523883966\n",
            "step: 181            train loss: 0.28387080025482               val loss:0.4078389871629091\n",
            "\n",
            "epoch: 7\n",
            "step: 1            train loss: 0.3010027209597196               val loss:0.3648167859068932\n",
            "step: 16            train loss: 0.29304512154106654               val loss:0.19352469741394598\n",
            "step: 31            train loss: 0.3283002611027466               val loss:0.33751575020015906\n",
            "step: 46            train loss: 0.33539268641164116               val loss:0.4515157964710525\n",
            "step: 61            train loss: 0.37612931644447967               val loss:0.2811822029939306\n",
            "step: 76            train loss: 0.36410291882527746               val loss:0.21650810011074087\n",
            "step: 91            train loss: 0.37677236901490757               val loss:0.1896173653983618\n",
            "step: 106            train loss: 0.2942891647779635               val loss:0.34936596894217775\n",
            "step: 121            train loss: 0.35205504482494687               val loss:0.39437601095525976\n",
            "step: 136            train loss: 0.30092838324148413               val loss:0.23979140556325274\n",
            "step: 151            train loss: 0.37528437249947943               val loss:0.23209052835282554\n",
            "step: 166            train loss: 0.3092349563029216               val loss:0.3801142458470266\n",
            "step: 181            train loss: 0.28263036274254727               val loss:0.187256801864502\n",
            "\n",
            "epoch: 8\n",
            "step: 1            train loss: 0.40547582822075323               val loss:0.26957729758702587\n",
            "step: 16            train loss: 0.21057799155165075               val loss:0.324085878026894\n",
            "step: 31            train loss: 0.2897167773787336               val loss:0.31672780464003775\n",
            "step: 46            train loss: 0.30179977963098326               val loss:0.1815177555781491\n",
            "step: 61            train loss: 0.2825617079987517               val loss:0.41471439347712075\n",
            "step: 76            train loss: 0.26672128231433084               val loss:0.23098291566119167\n",
            "step: 91            train loss: 0.364799513159785               val loss:0.25344095301287545\n",
            "step: 106            train loss: 0.22696516412862605               val loss:0.21463799965906544\n",
            "step: 121            train loss: 0.2790600220185738               val loss:0.40590649341361196\n",
            "step: 136            train loss: 0.29321238503550523               val loss:0.10881252741533803\n",
            "step: 151            train loss: 0.32078036926092934               val loss:0.21090811288630912\n",
            "step: 166            train loss: 0.2613856031659426               val loss:0.3479246296720036\n",
            "step: 181            train loss: 0.2741866154054253               val loss:0.1754316332180513\n",
            "\n",
            "epoch: 9\n",
            "step: 1            train loss: 0.30152333937500675               val loss:0.14706718870551783\n",
            "step: 16            train loss: 0.2839650814097412               val loss:0.6898284283262808\n",
            "step: 31            train loss: 0.33794083491281873               val loss:0.2743124046927242\n",
            "step: 46            train loss: 0.284683464028443               val loss:0.5767376348049803\n",
            "step: 61            train loss: 0.333250869216243               val loss:0.15656236695830553\n",
            "step: 76            train loss: 0.35171446021918784               val loss:0.3836534432802578\n",
            "step: 91            train loss: 0.27097365235671067               val loss:0.42526230669152937\n",
            "step: 106            train loss: 0.25749308219602307               val loss:0.3416681249333681\n",
            "step: 121            train loss: 0.2666623025570639               val loss:0.22192463946978072\n",
            "step: 136            train loss: 0.3698476819568374               val loss:0.07380665913288728\n",
            "step: 151            train loss: 0.3731892569544827               val loss:0.249693710890887\n",
            "step: 166            train loss: 0.3037414600550291               val loss:0.40186875205841066\n",
            "step: 181            train loss: 0.31234145732062757               val loss:0.23847498002656267\n",
            "\n",
            "epoch: 10\n",
            "step: 1            train loss: 0.2836101730086086               val loss:0.4235323462913363\n",
            "step: 16            train loss: 0.2488174192514444               val loss:0.19726736238877027\n",
            "step: 31            train loss: 0.29917478461283886               val loss:0.22287015193136642\n",
            "step: 46            train loss: 0.35801507917889885               val loss:0.3567551145405639\n",
            "step: 61            train loss: 0.2909101566477974               val loss:0.35990658308850054\n",
            "step: 76            train loss: 0.20951575106738274               val loss:0.18183617803316018\n",
            "step: 91            train loss: 0.33467550329397505               val loss:0.2469842750192769\n",
            "step: 106            train loss: 0.40489781788675555               val loss:0.10771979224657345\n",
            "step: 121            train loss: 0.3354033839120701               val loss:0.4767554660658307\n",
            "step: 136            train loss: 0.34441451384300803               val loss:0.21141087808516823\n",
            "step: 151            train loss: 0.27999225950448703               val loss:0.4183223471112802\n",
            "step: 166            train loss: 0.329859571380148               val loss:0.301917584540866\n",
            "step: 181            train loss: 0.3777567255148352               val loss:0.258381196649814\n"
          ],
          "name": "stdout"
        }
      ]
    },
    {
      "cell_type": "code",
      "metadata": {
        "colab": {
          "base_uri": "https://localhost:8080/",
          "height": 295
        },
        "id": "fLOppn36QMed",
        "outputId": "b629586c-9fb9-480c-ef02-f43b7722a4a9"
      },
      "source": [
        "import matplotlib.pyplot as plt\n",
        "plt.plot(np.arange(len(val_relu)), val_relu, label = 'Val loss')\n",
        "plt.plot(np.arange(len(train_relu)), train_relu, label = 'Train loss')\n",
        "plt.ylabel('Loss')\n",
        "plt.xlabel('Iteration')\n",
        "plt.legend()\n",
        "plt.title('ReLU')\n",
        "plt.show()"
      ],
      "execution_count": 57,
      "outputs": [
        {
          "output_type": "display_data",
          "data": {
            "image/png": "[encoded data removed]",
            "text/plain": [
              "<Figure size 432x288 with 1 Axes>"
            ]
          },
          "metadata": {
            "tags": [],
            "needs_background": "light"
          }
        }
      ]
    },
    {
      "cell_type": "code",
      "metadata": {
        "colab": {
          "base_uri": "https://localhost:8080/"
        },
        "id": "5Qmb8fqFkacV",
        "outputId": "8450e2b4-9307-4fa0-99fe-6a49d211e0a4"
      },
      "source": [
        "predict(flatten(x_test[30:40]), activation = 'relu', params = model2.model)"
      ],
      "execution_count": 58,
      "outputs": [
        {
          "output_type": "execute_result",
          "data": {
            "text/plain": [
              "array([3, 1, 3, 0, 7, 2, 7, 1, 2, 1])"
            ]
          },
          "metadata": {
            "tags": []
          },
          "execution_count": 58
        }
      ]
    },
    {
      "cell_type": "code",
      "metadata": {
        "colab": {
          "base_uri": "https://localhost:8080/"
        },
        "id": "jVk2_53cmioJ",
        "outputId": "c2d6138e-497e-422d-ee12-6e5929c89c74"
      },
      "source": [
        "y_test[30:40]"
      ],
      "execution_count": 59,
      "outputs": [
        {
          "output_type": "execute_result",
          "data": {
            "text/plain": [
              "array([3, 1, 3, 4, 7, 2, 7, 1, 2, 1], dtype=uint8)"
            ]
          },
          "metadata": {
            "tags": []
          },
          "execution_count": 59
        }
      ]
    },
    {
      "cell_type": "markdown",
      "metadata": {
        "id": "qe3DgSpx9fwK"
      },
      "source": [
        "batch gradient descent는 100 epcoh으로 학습해도 loss가 2에 머물렀다. 6만개를 한 번에 때려넣어서 그런가 학습속도도 빠르지 않았다. 반면 mini batch gradient descent는 한 번에 모든 데이터를 보는 게 아닐뿐더러 mini batch를 나누면서 뒤에 남는 데이터는 누락되지만 10 epochs에도 counter part보다 10배 좋은 성능을 보여주면서 메모리 소모도 적고 학습속도도 빨랐다. 모든 iteration에서 학습데이터가 다르기때문에 일반화 성능도 좋다고 알려져있다.\n",
        "\n",
        "더 좋은 성능을 기대하려면 \n",
        "1. weight deacy 추가\n",
        "2. batch norm layer 추가\n",
        "3. adam optimizer 쓰기\n",
        "4. dropout layer 추가\n",
        "\n",
        "이 정도 생각할 수 있다."
      ]
    },
    {
      "cell_type": "code",
      "metadata": {
        "id": "Ba90qKWAzQ9U"
      },
      "source": [
        ""
      ],
      "execution_count": null,
      "outputs": []
    }
  ]
}