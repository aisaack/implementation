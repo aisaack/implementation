{
  "nbformat": 4,
  "nbformat_minor": 0,
  "metadata": {
    "colab": {
      "name": "model distillation.ipynb",
      "provenance": [],
      "collapsed_sections": [],
      "authorship_tag": "ABX9TyPijnbb+ao9RUNShTzls6nH"
    },
    "kernelspec": {
      "name": "python3",
      "display_name": "Python 3"
    },
    "language_info": {
      "name": "python"
    }
  },
  "cells": [
    {
      "cell_type": "markdown",
      "source": [
        "# Distilling the Knowledge in a Neural Network\n",
        "### Reference\n",
        "1. [paper](https://arxiv.org/abs/1503.02531)\n",
        "2. [keras](https://keras.io/examples/vision/knowledge_distillation/)"
      ],
      "metadata": {
        "id": "jclmixzh7XFZ"
      }
    },
    {
      "cell_type": "code",
      "execution_count": 1,
      "metadata": {
        "id": "6c5elPcXC5JR"
      },
      "outputs": [],
      "source": [
        "import tensorflow as tf\n",
        "from tensorflow.keras import layers\n",
        "from tensorflow.keras import models\n",
        "from tensorflow.keras import losses\n",
        "from tensorflow.keras import metrics\n",
        "from tensorflow.keras import optimizers\n",
        "from tensorflow.keras import initializers\n",
        "from tensorflow.keras import regularizers\n",
        "from tensorflow.keras import callbacks\n",
        "from tensorflow.keras import backend"
      ]
    },
    {
      "cell_type": "markdown",
      "source": [
        "# Teacher model"
      ],
      "metadata": {
        "id": "a7slU0Gyyp56"
      }
    },
    {
      "cell_type": "code",
      "source": [
        "def building_block(X, filter, args, stage, block):\n",
        "  x = layers.BatchNormalization()(X)\n",
        "  x = layers.ReLU()(x)\n",
        "  x = layers.Conv2D(filters=filter,\n",
        "                    kernel_size=(3, 3),\n",
        "                    strides=(1, 1) if stage == 0 or block > 0 else (2, 2),\n",
        "                    padding='same',\n",
        "                    kernel_initializer=args.init,\n",
        "                    kernel_regularizer=args.reg)(x)\n",
        "\n",
        "  x = layers.BatchNormalization()(x)\n",
        "  x = layers.ReLU()(x)\n",
        "  x = layers.Conv2D(filters=filter,\n",
        "                    kernel_size=(3, 3),\n",
        "                    strides=(1, 1),\n",
        "                    padding='same',\n",
        "                    kernel_initializer=args.init,\n",
        "                    kernel_regularizer=args.reg)(x)\n",
        "\n",
        "  if stage == 0 or block > 0:\n",
        "    out = layers.Add()([x, X])\n",
        "  else:\n",
        "    id = layers.Conv2D(filters=filter,\n",
        "                       kernel_size=(1, 1),\n",
        "                       strides=(2, 2),\n",
        "                       padding='same',\n",
        "                       kernel_initializer=args.init,\n",
        "                       kernel_regularizer=args.reg)(X)\n",
        "    out = layers.Add()([x, id])\n",
        "  return out"
      ],
      "metadata": {
        "id": "6QMVsWJPyXD5"
      },
      "execution_count": 2,
      "outputs": []
    },
    {
      "cell_type": "code",
      "source": [
        "def get_model(X, args):\n",
        "  x = layers.Conv2D(filters=args.filters[0],\n",
        "                    kernel_size=(3, 3),\n",
        "                    strides=(1, 1),\n",
        "                    padding='same',\n",
        "                    kernel_initializer=args.init,\n",
        "                    kernel_regularizer=args.reg)(X)\n",
        "  for stage, filter in enumerate(args.filters):\n",
        "    for block in range(args.blocks):\n",
        "      x = building_block(x, filter, args, stage, block)\n",
        "      print(f'{stage+2}-{block+1}block {x.shape}')\n",
        "\n",
        "  x = layers.GlobalAveragePooling2D()(x)\n",
        "  x = layers.Dense(units=args.num_class)(x)\n",
        "  return x"
      ],
      "metadata": {
        "id": "O7JI2ma00Ral"
      },
      "execution_count": 3,
      "outputs": []
    },
    {
      "cell_type": "code",
      "source": [
        "def build_model(args):\n",
        "  X = layers.Input(shape=args.input_shape)\n",
        "  x = get_model(X, args)\n",
        "  model = models.Model(inputs=X, outputs=x)\n",
        "  return model"
      ],
      "metadata": {
        "id": "wOybLBme1L88"
      },
      "execution_count": 4,
      "outputs": []
    },
    {
      "cell_type": "code",
      "source": [
        "class Config:\n",
        "  lr = 1e-2\n",
        "  batch_size = 128\n",
        "  epochs = 5\n",
        "  weight_decay = 1e-4\n",
        "  decay_step = 2\n",
        "  input_shape = (28, 28, 1)\n",
        "  filters = [16, 32, 64]\n",
        "  blocks = 3\n",
        "  num_class = 10\n",
        "  opt = optimizers.Adam(learning_rate=lr)\n",
        "  loss = losses.SparseCategoricalCrossentropy(from_logits=True)\n",
        "  metric = metrics.SparseCategoricalAccuracy()\n",
        "  init = initializers.HeNormal()\n",
        "  reg = regularizers.L2(l2=weight_decay)"
      ],
      "metadata": {
        "id": "d_3Spp7Y159B"
      },
      "execution_count": 5,
      "outputs": []
    },
    {
      "cell_type": "code",
      "source": [
        "big_model = build_model(Config)"
      ],
      "metadata": {
        "colab": {
          "base_uri": "https://localhost:8080/"
        },
        "id": "Lz3_DZqH3RrA",
        "outputId": "89e9794e-6552-438e-dc92-dbfacfa5107e"
      },
      "execution_count": 6,
      "outputs": [
        {
          "output_type": "stream",
          "name": "stdout",
          "text": [
            "2-1block (None, 28, 28, 16)\n",
            "2-2block (None, 28, 28, 16)\n",
            "2-3block (None, 28, 28, 16)\n",
            "3-1block (None, 14, 14, 32)\n",
            "3-2block (None, 14, 14, 32)\n",
            "3-3block (None, 14, 14, 32)\n",
            "4-1block (None, 7, 7, 64)\n",
            "4-2block (None, 7, 7, 64)\n",
            "4-3block (None, 7, 7, 64)\n"
          ]
        }
      ]
    },
    {
      "cell_type": "code",
      "source": [
        "def input_pipeline(feature, label, batch_size, validation_split:float=0.1, pad:int=4):\n",
        "  try:\n",
        "    N, H, W, C = feature.shape\n",
        "  except:\n",
        "    feature = tf.expand_dims(feature, axis=-1)\n",
        "    N, H, W, C = feature.shape\n",
        "\n",
        "  ds = tf.data.Dataset.from_tensor_slices((feature, label))\n",
        "  ds = ds.map(lambda x, y: (tf.divide(tf.cast(x, tf.float32), 255.), y))\n",
        "  ds = ds.map(lambda x, y: (tf.divide(tf.subtract(x, tf.math.reduce_mean(x)), tf.math.reduce_std(x)), y))\n",
        "  ds = ds.shuffle(1000)\n",
        "  ds = ds.cache()\n",
        "\n",
        "  assert 0 <= validation_split < 1\n",
        "  if validation_split:\n",
        "    val_len = int(N * validation_split)\n",
        "    val_ds = ds.take(val_len)\n",
        "    train_ds = ds.skip(val_len)\n",
        "\n",
        "  crop = train_ds.map(lambda x, y: (tf.image.resize_with_pad(x, H+pad*2, W+pad*2), y))\n",
        "  crop = crop.map(lambda x, y: (tf.image.random_crop(x, (H, W, C)), y))\n",
        "  train_ds = train_ds.concatenate(crop)\n",
        "  train_ds = train_ds.shuffle(1000)\n",
        "  train_ds = train_ds.cache()\n",
        "  train_ds = train_ds.batch(batch_size=batch_size)\n",
        "  val_ds = val_ds.batch(batch_size=batch_size)\n",
        "  val_ds = val_ds.prefetch(1)\n",
        "  train_ds = train_ds.prefetch(1)\n",
        "  print('Trian mini batch: ', train_ds.cardinality().numpy(), '           val mini batch: ', val_ds.cardinality().numpy())\n",
        "  return train_ds, val_ds"
      ],
      "metadata": {
        "id": "E1l4JmO73YEu"
      },
      "execution_count": 7,
      "outputs": []
    },
    {
      "cell_type": "code",
      "source": [
        "(x_train, y_train), (x_test, y_test) = tf.keras.datasets.mnist.load_data()"
      ],
      "metadata": {
        "id": "LszTzBJY8wZ1"
      },
      "execution_count": 60,
      "outputs": []
    },
    {
      "cell_type": "code",
      "source": [
        "train_ds, val_ds = input_pipeline(x_train, y_train, Config.batch_size)"
      ],
      "metadata": {
        "colab": {
          "base_uri": "https://localhost:8080/"
        },
        "id": "Hsjsv2R0AoVW",
        "outputId": "94362863-ca02-4a92-aae9-c4216676a3ca"
      },
      "execution_count": 9,
      "outputs": [
        {
          "output_type": "stream",
          "name": "stdout",
          "text": [
            "Trian mini batch:  844            val mini batch:  47\n"
          ]
        }
      ]
    },
    {
      "cell_type": "code",
      "source": [
        "class DecoupleHelper(callbacks.Callback):\n",
        "  def __init__(self, init_lr, decay_steps, regularizer:bool=None):\n",
        "    self.init_lr = init_lr\n",
        "    self.regularizer = regularizer\n",
        "    self.weight_decay = None\n",
        "    if self.regularizer:\n",
        "      self.weight_decay = self.regularizer.l2\n",
        "    self.decay_steps = decay_steps\n",
        "    self.best_acc = None\n",
        "    self.best_weights = None\n",
        "    self.best_epoch = None\n",
        "    self.iter_counter = 0\n",
        "\n",
        "  def on_train_begin(self, logs=None):\n",
        "    if not hasattr(self.model.optimizer.lr, 'lr'):\n",
        "      backend.set_value(self.model.optimizer.lr, self.init_lr)\n",
        "\n",
        "  def on_epoch_end(self, epoch, logs=None):\n",
        "    next_lr = optimizers.schedules.CosineDecayRestarts(initial_learning_rate=self.init_lr,\n",
        "                                                       first_decay_steps=self.decay_steps)(epoch).numpy()\n",
        "    backend.set_value(self.model.optimizer.lr, next_lr)\n",
        "    logs.update({'next_lr': next_lr})\n",
        "    if self.regularizer:\n",
        "      next_wd = optimizers.schedules.CosineDecayRestarts(initial_learning_rate=self.weight_decay,\n",
        "                                                         first_decay_steps=self.decay_steps)(epoch).numpy()\n",
        "      self.regularizer.lr = next_wd\n",
        "      logs.update({'next_wd': next_wd})\n",
        "    curr_acc = logs.get('val_sparse_categorical_accuracy')\n",
        "    if self.best_acc is None:\n",
        "      self.best_acc = curr_acc\n",
        "    \n",
        "    if self.best_acc < curr_acc:\n",
        "      self.best_acc = curr_acc\n",
        "      self.best_weights = self.model.get_weights()\n",
        "      self.best_epoch = epoch\n",
        "      logs.update({'WEIGHT UPDATED': True})\n",
        "\n",
        "  def on_train_end(self, logs=None):\n",
        "    if self.best_weights:\n",
        "      self.model.set_weights(self.best_weights)\n",
        "      print('Training end')"
      ],
      "metadata": {
        "id": "3BVqhVooAulU"
      },
      "execution_count": 13,
      "outputs": []
    },
    {
      "cell_type": "markdown",
      "source": [
        "## Train teacher model"
      ],
      "metadata": {
        "id": "NTr0P4evyzja"
      }
    },
    {
      "cell_type": "code",
      "source": [
        "big_model.compile(optimizer=Config.opt,\n",
        "              loss=Config.loss,\n",
        "              metrics=Config.metric)"
      ],
      "metadata": {
        "id": "ZNPjDBQvEibN"
      },
      "execution_count": 11,
      "outputs": []
    },
    {
      "cell_type": "code",
      "source": [
        "import numpy as np\n",
        "import matplotlib.pyplot as plt\n",
        "log = []\n",
        "for i in range(14):\n",
        "  lr = optimizers.schedules.CosineDecayRestarts(initial_learning_rate=1e-2, first_decay_steps=2)(i).numpy()\n",
        "  log.append(lr)\n",
        "\n",
        "plt.plot(log)"
      ],
      "metadata": {
        "colab": {
          "base_uri": "https://localhost:8080/",
          "height": 282
        },
        "id": "GnW2Y36TDA19",
        "outputId": "728d8c93-cbff-4d32-be13-15735a8ce9e6"
      },
      "execution_count": 21,
      "outputs": [
        {
          "output_type": "execute_result",
          "data": {
            "text/plain": [
              "[<matplotlib.lines.Line2D at 0x7fdc5d075250>]"
            ]
          },
          "metadata": {},
          "execution_count": 21
        },
        {
          "output_type": "display_data",
          "data": {
            "text/plain": [
              "<Figure size 432x288 with 1 Axes>"
            ],
            "image/png": "[encoded data removed]"
          },
          "metadata": {
            "needs_background": "light"
          }
        }
      ]
    },
    {
      "cell_type": "code",
      "source": [
        "big_model.fit(x=train_ds,\n",
        "          validation_data=val_ds,\n",
        "          epochs=6,\n",
        "          callbacks=[DecoupleHelper(init_lr=Config.lr,\n",
        "                                    decay_steps=Config.decay_step,\n",
        "                                    regularizer=Config.reg)])"
      ],
      "metadata": {
        "colab": {
          "base_uri": "https://localhost:8080/"
        },
        "id": "n4hTFppfEtsa",
        "outputId": "5ed0b1cc-c5ca-41b7-ce40-f43e501c1dda"
      },
      "execution_count": 23,
      "outputs": [
        {
          "output_type": "stream",
          "name": "stdout",
          "text": [
            "Epoch 1/6\n",
            "844/844 [==============================] - 1023s 1s/step - loss: 0.1546 - sparse_categorical_accuracy: 0.9782 - val_loss: 0.8071 - val_sparse_categorical_accuracy: 0.7617 - next_lr: 0.0100 - next_wd: 1.0000e-04\n",
            "Epoch 2/6\n",
            "844/844 [==============================] - 1005s 1s/step - loss: 0.1396 - sparse_categorical_accuracy: 0.9804 - val_loss: 0.2481 - val_sparse_categorical_accuracy: 0.9485 - next_lr: 0.0050 - next_wd: 5.0000e-05 - WEIGHT UPDATED: 1.0000\n",
            "Epoch 3/6\n",
            "844/844 [==============================] - 1140s 1s/step - loss: 0.0934 - sparse_categorical_accuracy: 0.9882 - val_loss: 0.1899 - val_sparse_categorical_accuracy: 0.9657 - next_lr: 0.0100 - next_wd: 1.0000e-04 - WEIGHT UPDATED: 1.0000\n",
            "Epoch 4/6\n",
            "844/844 [==============================] - 1019s 1s/step - loss: 0.1397 - sparse_categorical_accuracy: 0.9788 - val_loss: 0.2922 - val_sparse_categorical_accuracy: 0.9318 - next_lr: 0.0085 - next_wd: 8.5355e-05\n",
            "Epoch 5/6\n",
            "844/844 [==============================] - 1012s 1s/step - loss: 0.1111 - sparse_categorical_accuracy: 0.9840 - val_loss: 0.2168 - val_sparse_categorical_accuracy: 0.9497 - next_lr: 0.0050 - next_wd: 5.0000e-05\n",
            "Epoch 6/6\n",
            "844/844 [==============================] - 1035s 1s/step - loss: 0.0835 - sparse_categorical_accuracy: 0.9892 - val_loss: 0.1315 - val_sparse_categorical_accuracy: 0.9767 - next_lr: 0.0015 - next_wd: 1.4645e-05 - WEIGHT UPDATED: 1.0000\n",
            "Training end\n"
          ]
        },
        {
          "output_type": "execute_result",
          "data": {
            "text/plain": [
              "<keras.callbacks.History at 0x7fdc5cf1f910>"
            ]
          },
          "metadata": {},
          "execution_count": 23
        }
      ]
    },
    {
      "cell_type": "code",
      "source": [
        "plt.plot(big_model.history.history.get('sparse_categorical_accuracy'), label='train')\n",
        "plt.plot(big_model.history.history.get('val_sparse_categorical_accuracy'), label='val')\n",
        "plt.legend()\n",
        "plt.grid()\n",
        "plt.xlabel('Epoch')\n",
        "plt.ylabel('Accuracy')\n",
        "plt.title('Teacher Model')"
      ],
      "metadata": {
        "colab": {
          "base_uri": "https://localhost:8080/",
          "height": 312
        },
        "id": "pAYPwBdiik0J",
        "outputId": "9761fff7-085e-4bdd-9c0b-d26258be258d"
      },
      "execution_count": 107,
      "outputs": [
        {
          "output_type": "execute_result",
          "data": {
            "text/plain": [
              "Text(0.5, 1.0, 'Teacher Model')"
            ]
          },
          "metadata": {},
          "execution_count": 107
        },
        {
          "output_type": "display_data",
          "data": {
            "text/plain": [
              "<Figure size 432x288 with 1 Axes>"
            ],
            "image/png": "[encoded data removed]"
          },
          "metadata": {
            "needs_background": "light"
          }
        }
      ]
    },
    {
      "cell_type": "markdown",
      "source": [
        "# Student model"
      ],
      "metadata": {
        "id": "7uhA52RaykYT"
      }
    },
    {
      "cell_type": "code",
      "source": [
        "small_model = models.Sequential()\n",
        "small_model.add(layers.Input(shape=Config.input_shape))\n",
        "small_model.add(layers.Conv2D(filters=16,\n",
        "                              kernel_size=(3, 3),\n",
        "                              strides=(1, 1),\n",
        "                              padding='same'))\n",
        "small_model.add(layers.Activation(tf.nn.relu))\n",
        "small_model.add(layers.MaxPooling2D(pool_size=(2, 2), strides=(2, 2)))\n",
        "small_model.add(layers.Conv2D(filters=32,\n",
        "                              kernel_size=(3, 3),\n",
        "                              strides=(1, 1),\n",
        "                              padding='same'))\n",
        "small_model.add(layers.Activation(tf.nn.relu))\n",
        "small_model.add(layers.MaxPooling2D(pool_size=(2, 2), strides=(2, 2)))\n",
        "small_model.add(layers.Conv2D(filters=64,\n",
        "                              kernel_size=(3, 3),\n",
        "                              strides=(1, 1),\n",
        "                              padding='same'))\n",
        "small_model.add(layers.GlobalAveragePooling2D())\n",
        "small_model.add(layers.Dense(units=Config.num_class))"
      ],
      "metadata": {
        "id": "_wBOIJlgNfZv"
      },
      "execution_count": 31,
      "outputs": []
    },
    {
      "cell_type": "markdown",
      "source": [
        "# Distiller class"
      ],
      "metadata": {
        "id": "rxcBN-Y6y6PQ"
      }
    },
    {
      "cell_type": "code",
      "source": [
        "class Distiller(models.Model):\n",
        "  def __init__(self, teacher, student):\n",
        "    super(Distiller, self).__init__()\n",
        "    self.teacher = teacher\n",
        "    self.student = student\n",
        "    self.t = None\n",
        "    self.alpha = None\n",
        "    self.student_objective = None\n",
        "    self.distiller_objective = None\n",
        "\n",
        "  def compile(self, optimizer, metrics, distiller_objective, student_objective, t, alpha):\n",
        "    super(Distiller, self).compile(optimizer=optimizer, metrics=metrics,)\n",
        "    self.distiller_objective = distiller_objective\n",
        "    self.student_objective = student_objective\n",
        "    self.t = t\n",
        "    self.alpha = alpha\n",
        "\n",
        "  def train_step(self, data):\n",
        "    x, y = data\n",
        "    teacher_pred = self.teacher(x, training=False)   # (batch, num_class)\n",
        "    with tf.GradientTape() as tape:\n",
        "      student_pred = self.student(x, training=True)   # (batch, num_class)\n",
        "      distiller_loss = self.distiller_objective(tf.nn.softmax(teacher_pred / self.t, axis=1),\n",
        "                                                tf.nn.softmax(student_pred / self.t, axis=1))\n",
        "      student_loss = self.student_objective(y, teacher_pred)\n",
        "      loss = (1 - self.alpha) * distiller_loss + self.alpha * student_loss\n",
        "\n",
        "    trainable = self.student.trainable_weights\n",
        "    grads = tape.gradient(loss, trainable)\n",
        "    self.optimizer.apply_gradients(zip(grads, trainable))\n",
        "    self.compiled_metrics.update_state(y, student_pred)\n",
        "\n",
        "    results = {m.name: m.result() for m in self.metrics}\n",
        "    print(results)\n",
        "    results.update({'student_loss': student_loss,\n",
        "                    'distiller_loss': distiller_loss})\n",
        "    return results\n",
        "\n",
        "  def test_step(self, data):\n",
        "    x, y = data\n",
        "    val_pred = self.student(x, training=False)\n",
        "    val_loss = self.student_objective(y, val_pred)\n",
        "\n",
        "    self.compiled_metrics.update_state(y, val_pred)\n",
        "    results = {m.name: m.result() for m in self.metrics}\n",
        "    results.update({'val_student_loss': val_loss})\n",
        "    return results"
      ],
      "metadata": {
        "id": "uDl-3_y4FQuj"
      },
      "execution_count": 95,
      "outputs": []
    },
    {
      "cell_type": "code",
      "source": [
        "x_train = x_train/255.\n",
        "x_train = (x_train - tf.math.reduce_mean(x_train)) / tf.math.reduce_std(x_train)"
      ],
      "metadata": {
        "id": "oeGP03Y2gT1N"
      },
      "execution_count": 61,
      "outputs": []
    },
    {
      "cell_type": "code",
      "source": [
        "y_train = tf.expand_dims(y_train, axis=1)\n",
        "x_train = tf.expand_dims(x_train, axis=3)"
      ],
      "metadata": {
        "id": "5yG2tOxuj8yu"
      },
      "execution_count": 62,
      "outputs": []
    },
    {
      "cell_type": "code",
      "source": [
        "distiller = Distiller(teacher=big_model, student=small_model)\n",
        "distiller.compile(\n",
        "    optimizer=optimizers.Adam(learning_rate=Config.lr),\n",
        "    metrics=metrics.SparseCategoricalAccuracy(),\n",
        "    distiller_objective=losses.KLDivergence(),\n",
        "    student_objective=losses.SparseCategoricalCrossentropy(from_logits=True),\n",
        "    alpha=0.1,\n",
        "    t=10\n",
        "    )"
      ],
      "metadata": {
        "id": "ri-kCkJWWovL"
      },
      "execution_count": 98,
      "outputs": []
    },
    {
      "cell_type": "code",
      "source": [
        "distiller.fit(\n",
        "    x=x_train,\n",
        "    y=y_train,\n",
        "    epochs=5,\n",
        "    validation_split=0.2\n",
        "    )"
      ],
      "metadata": {
        "id": "HtjxtJUTlwsq"
      },
      "execution_count": null,
      "outputs": []
    },
    {
      "cell_type": "markdown",
      "source": [
        "```\n",
        "Epoch 1/5\n",
        "1500/1500 [==============================] - 179s 118ms/step - sparse_categorical_accuracy: 0.7550 - student_loss: 0.1346 - distiller_loss: 0.0332 - val_sparse_categorical_accuracy: 0.8675 - val_val_student_loss: 0.4981\n",
        "Epoch 2/5\n",
        "1500/1500 [==============================] - 184s 122ms/step - sparse_categorical_accuracy: 0.8842 - student_loss: 0.1346 - distiller_loss: 0.0201 - val_sparse_categorical_accuracy: 0.8907 - val_val_student_loss: 0.3469\n",
        "Epoch 3/5\n",
        "1500/1500 [==============================] - 167s 111ms/step - sparse_categorical_accuracy: 0.8972 - student_loss: 0.1347 - distiller_loss: 0.0183 - val_sparse_categorical_accuracy: 0.9014 - val_val_student_loss: 0.3046\n",
        "Epoch 4/5\n",
        "1500/1500 [==============================] - 172s 115ms/step - sparse_categorical_accuracy: 0.9050 - student_loss: 0.1347 - distiller_loss: 0.0171 - val_sparse_categorical_accuracy: 0.9130 - val_val_student_loss: 0.2528\n",
        "Epoch 5/5\n",
        "1500/1500 [==============================] - 199s 133ms/step - sparse_categorical_accuracy: 0.9056 - student_loss: 0.1346 - distiller_loss: 0.0166 - val_sparse_categorical_accuracy: 0.9047 - val_val_student_loss: 0.2331\n",
        "<keras.callbacks.History at 0x7fdc591cf190>\n",
        "```"
      ],
      "metadata": {
        "id": "vY-0byZb6Vz1"
      }
    },
    {
      "cell_type": "code",
      "source": [
        "plt.plot(distiller.history.history.get('sparse_categorical_accuracy'), label='train')\n",
        "plt.plot(distiller.history.history.get('val_sparse_categorical_accuracy'), label='val')\n",
        "plt.legend()\n",
        "plt.grid()\n",
        "plt.xlabel('Epochs')\n",
        "plt.ylabel('Accuracy')\n",
        "plt.title('Distilled model')"
      ],
      "metadata": {
        "colab": {
          "base_uri": "https://localhost:8080/",
          "height": 312
        },
        "id": "9Dl8NeM7zHq7",
        "outputId": "ed83f32b-6f9d-4e52-c9b0-11ab1087b627"
      },
      "execution_count": 106,
      "outputs": [
        {
          "output_type": "execute_result",
          "data": {
            "text/plain": [
              "Text(0.5, 1.0, 'Distilled model')"
            ]
          },
          "metadata": {},
          "execution_count": 106
        },
        {
          "output_type": "display_data",
          "data": {
            "text/plain": [
              "<Figure size 432x288 with 1 Axes>"
            ],
            "image/png": "[encoded data removed]"
          },
          "metadata": {
            "needs_background": "light"
          }
        }
      ]
    },
    {
      "cell_type": "code",
      "source": [
        "x_test = x_test/255.\n",
        "x_test = (x_test - tf.math.reduce_mean(x_test)) / tf.math.reduce_std(x_test)"
      ],
      "metadata": {
        "id": "q8tYva2f53A0"
      },
      "execution_count": 126,
      "outputs": []
    },
    {
      "cell_type": "code",
      "source": [
        "distiller.evaluate(x_test, y_test)"
      ],
      "metadata": {
        "id": "jBjOeaQQ3Pil"
      },
      "execution_count": null,
      "outputs": []
    },
    {
      "cell_type": "markdown",
      "source": [
        "```\n",
        "313/313 [==============================] - 6s 18ms/step - sparse_categorical_accuracy: 0.8977 - val_student_loss: 0.3136\n",
        "[0.8977000117301941, 0.12452390789985657]\n",
        "```"
      ],
      "metadata": {
        "id": "zFXM4DbC6NKs"
      }
    },
    {
      "cell_type": "code",
      "source": [
        "big_model.evaluate(x_test, y_test)"
      ],
      "metadata": {
        "id": "mg-_jL-W6j3i"
      },
      "execution_count": null,
      "outputs": []
    },
    {
      "cell_type": "markdown",
      "source": [
        "```\n",
        "313/313 [==============================] - 46s 142ms/step - loss: 0.1774 - sparse_categorical_accuracy: 0.9616\n",
        "[0.1774003952741623, 0.9616000056266785]\n",
        "```"
      ],
      "metadata": {
        "id": "epGsj9Pa7ALp"
      }
    }
  ]
}