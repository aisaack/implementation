{
  "nbformat": 4,
  "nbformat_minor": 0,
  "metadata": {
    "colab": {
      "name": "LR_range_test.ipynb",
      "provenance": [],
      "collapsed_sections": [],
      "authorship_tag": "ABX9TyM0OKXZJ8Nbx5XMZT5+EPDK"
    },
    "kernelspec": {
      "name": "python3",
      "display_name": "Python 3"
    },
    "language_info": {
      "name": "python"
    }
  },
  "cells": [
    {
      "cell_type": "markdown",
      "metadata": {
        "id": "O9XVkBuTOmFe"
      },
      "source": [
        "# Learning Rate Range Test\n",
        "### Reference\n",
        "1. [Cyclical Learning Rates for Training Neural Networks](https://arxiv.org/abs/1506.01186)\n",
        "\n",
        "The most important hyperparameter is learning rate, however it's cumbersome work for finding just the right learning rate. Every model, problem, and dataset requires different learning rate. Some researchers initiate ramdom high learning rate, then decay it under certian conditions for example every N epochs or loss / accuracy doesn't get imporved etc.\n",
        "\n",
        "This test is originally used for finding learning rate range."
      ]
    },
    {
      "cell_type": "code",
      "metadata": {
        "id": "t-8kwoBFExiC"
      },
      "source": [
        "import numpy as np\n",
        "import matplotlib.pyplot as plt\n",
        "import tensorflow as tf\n",
        "from tensorflow.keras import layers\n",
        "from tensorflow.keras import models\n",
        "from tensorflow.keras import optimizers\n",
        "from tensorflow.keras import callbacks\n",
        "from tensorflow.keras import backend"
      ],
      "execution_count": null,
      "outputs": []
    },
    {
      "cell_type": "code",
      "metadata": {
        "id": "cvnZt1YxfKmr"
      },
      "source": [
        "class ResBlock(models.Model):\n",
        "  def __init__(self, filters, layer):\n",
        "    super().__init__()\n",
        "    f1, f2, f3 = filters\n",
        "    self.layer = layer\n",
        "    self.BN1 = layers.BatchNormalization()\n",
        "    self.swish1 = layers.Activation(activation=tf.nn.swish)\n",
        "    self.conv1 = layers.Conv2D(filters=f1, kernel_size=(1, 1), strides=(1, 1), padding='same')\n",
        "    self.BN2 = layers.BatchNormalization()\n",
        "    self.swish2 = layers.Activation(activation=tf.nn.swish)\n",
        "    self.conv2 = layers.Conv2D(filters=f2, kernel_size=(3, 3), strides=(1, 1) if self.layer > 0 else (2, 2), padding='same')\n",
        "    self.BN3 = layers.BatchNormalization()\n",
        "    self.swish3 = layers.Activation(activation=tf.nn.swish)\n",
        "    self.conv3 = layers.Conv2D(filters=f3, kernel_size=(1, 1), strides=(1, 1), padding='same')\n",
        "    self.id = layers.Conv2D(filters=f3, kernel_size=(1, 1), strides=(1, 1) if self.layer > 0 else (2, 2), padding='same')\n",
        "    self.add = layers.Add()\n",
        "\n",
        "  def call(self, X):\n",
        "    x = self.BN1(X)\n",
        "    x = self.swish1(x)\n",
        "    x = self.conv1(x)\n",
        "    x = self.BN2(x)\n",
        "    x = self.swish2(x)\n",
        "    x = self.conv2(x)\n",
        "    x = self.BN3(x)\n",
        "    x = self.swish3(x)\n",
        "    x = self.conv3(x)\n",
        "    if self.layer == 0:\n",
        "      id = self.id(X)\n",
        "      return self.add([x, id])\n",
        "    return self.add([x, X])"
      ],
      "execution_count": null,
      "outputs": []
    },
    {
      "cell_type": "code",
      "metadata": {
        "id": "lZ25CEu7HEH6"
      },
      "source": [
        "block_args = [\n",
        "              {'filters': [8, 8, 32], 'repeat': 2},\n",
        "              {'filters': [16, 16, 64], 'repeat': 3},\n",
        "              ]"
      ],
      "execution_count": null,
      "outputs": []
    },
    {
      "cell_type": "code",
      "metadata": {
        "id": "UUZE0p8ykMlN"
      },
      "source": [
        "class Config:\n",
        "  epochs = 3\n",
        "  batch_size = 256\n",
        "  lr = 0.001\n",
        "  min_lr = 0.001\n",
        "  max_lr = 0.1\n",
        "  # loss = keras.losses.SparseCategoricalCrossentropy(from_logits=True)\n",
        "  # metrics = keras.metrics.Accuracy()\n",
        "  loss = 'sparse_categorical_crossentropy'\n",
        "  metrics = 'accuracy'"
      ],
      "execution_count": null,
      "outputs": []
    },
    {
      "cell_type": "code",
      "metadata": {
        "id": "EQycEeAQpTUk"
      },
      "source": [
        "def model(args):\n",
        "  inputs = layers.Input(shape=(32, 32, 3))\n",
        "  x = layers.Conv2D(filters=4, kernel_size=(1, 1), strides=(1, 1), padding='same')(inputs)\n",
        "  \n",
        "  for stage, arg in enumerate(args):\n",
        "    for layer in range(arg['repeat']):\n",
        "      x = ResBlock(arg['filters'], layer)(x)\n",
        "      print(f'Stage: {stage+2}-{layer+1}, shape: {x.shape}')\n",
        "  x = layers.AveragePooling2D(pool_size=(8, 8))(x)\n",
        "  x = layers.Flatten()(x)\n",
        "  x = layers.Dense(units=10, activation='softmax')(x)\n",
        "  print(x)\n",
        "  out = models.Model(inputs=inputs, outputs=x)\n",
        "  out.compile(optimizer=optimizers.SGD(learning_rate=Config.lr, momentum=0.9), loss=Config.loss, metrics=Config.metrics)\n",
        "  return out"
      ],
      "execution_count": null,
      "outputs": []
    },
    {
      "cell_type": "code",
      "metadata": {
        "id": "zZB6E0j-pXht"
      },
      "source": [
        "class Preproseccing:  \n",
        "  def normalize(self, X):\n",
        "    return X / 255.\n",
        "\n",
        "  def zero_centered(self, X):\n",
        "    return X - 0.5\n",
        "\n",
        "  def __call__(self, X):\n",
        "    x = self.normalize(X)\n",
        "    x = self.zero_centered(x)\n",
        "    return x"
      ],
      "execution_count": null,
      "outputs": []
    },
    {
      "cell_type": "code",
      "metadata": {
        "id": "m97GouqyrUwX"
      },
      "source": [
        "(x_train, y_train), (x_test, y_test) = tf.keras.datasets.cifar10.load_data()"
      ],
      "execution_count": null,
      "outputs": []
    },
    {
      "cell_type": "code",
      "metadata": {
        "id": "ZWLifum4rfmc"
      },
      "source": [
        "train_data = Preproseccing()(x_train)\n",
        "test_data = Preproseccing()(x_test)"
      ],
      "execution_count": null,
      "outputs": []
    },
    {
      "cell_type": "code",
      "metadata": {
        "id": "59RpCy_Qzw2b"
      },
      "source": [
        "class LRrangeTest(callbacks.Callback):\n",
        "  def __init__(self, min_lr=1e-9, max_lr=1e+1, policy: str='linear'):\n",
        "    self.min_lr = min_lr\n",
        "    self.max_lr = max_lr\n",
        "    self.policy = policy\n",
        "    self.epochs = None\n",
        "    self.steps = None\n",
        "    self.num_iter = None\n",
        "    self.iter_counter = 0\n",
        "    self.learning_rates = None\n",
        "    self.losses = []\n",
        "    self.lowest_loss = None\n",
        "\n",
        "  def on_train_begin(self, logs=None):\n",
        "    self.epochs = self.params.get('epochs')\n",
        "    self.steps = self.params.get('steps')\n",
        "    self.num_iter = self.epochs * self.steps\n",
        "    if self.policy == 'linear':\n",
        "      self.learning_rates = np.linspace(start=self.min_lr, stop=self.max_lr, num=self.num_iter+1)\n",
        "    elif self.policy == 'exponential':\n",
        "      self.learning_rates = np.geomspace(start=self.min_lr, stop=self.max_lr, num=self.num_iter+1)\n",
        "    print('Learning rates are initiated')\n",
        "    if self.min_lr:\n",
        "      backend.set_value(self.model.optimizer.learning_rate, self.min_lr)\n",
        "    else:\n",
        "      backend.set_value(self.model.optimizer.learning_rate, self.learning_rates[self.iter_counter])\n",
        "   \n",
        "\n",
        "  def on_batch_end(self, batch, logs=None):\n",
        "    lr = backend.get_value(self.model.optimizer.learning_rate)\n",
        "    logs['lr'] = lr\n",
        "\n",
        "    loss = logs.get('loss')\n",
        "    if self.iter_counter == 0 or loss < self.lowest_loss:\n",
        "      self.lowest_loss = loss\n",
        "      logs['best_loss'] = self.lowest_loss\n",
        "    \n",
        "    if loss > self.lowest_loss * 2:\n",
        "      self.model.stop_training = True\n",
        "    self.losses.append(loss)\n",
        "    self.iter_counter += 1\n",
        "    next_lr = self.learning_rates[self.iter_counter]\n",
        "    # print(f' - next_lr: {next_lr}')\n",
        "    backend.set_value(self.model.optimizer.learning_rate, next_lr)\n",
        "  \n",
        "  def on_train_end(self, logs=None):\n",
        "    plt.figure(figsize=(12, 6))\n",
        "    plt.plot(self.learning_rates[:len(self.losses)], self.losses)\n",
        "    plt.xlabel(\"Learning Rate\")\n",
        "    plt.ylabel(\"Loss\")\n",
        "    plt.xscale('log')\n",
        "    plt.show()"
      ],
      "execution_count": null,
      "outputs": []
    },
    {
      "cell_type": "code",
      "metadata": {
        "colab": {
          "base_uri": "https://localhost:8080/"
        },
        "id": "5ius7CHpIhj6",
        "outputId": "efed68b1-3007-4fca-9dc9-27843b3b6c00"
      },
      "source": [
        "m = model(block_args)"
      ],
      "execution_count": null,
      "outputs": [
        {
          "output_type": "stream",
          "name": "stdout",
          "text": [
            "Stage: 2-1, shape: (None, 16, 16, 32)\n",
            "Stage: 2-2, shape: (None, 16, 16, 32)\n",
            "Stage: 3-1, shape: (None, 8, 8, 64)\n",
            "Stage: 3-2, shape: (None, 8, 8, 64)\n",
            "Stage: 3-3, shape: (None, 8, 8, 64)\n",
            "KerasTensor(type_spec=TensorSpec(shape=(None, 10), dtype=tf.float32, name=None), name='dense_7/Softmax:0', description=\"created by layer 'dense_7'\")\n"
          ]
        }
      ]
    },
    {
      "cell_type": "code",
      "metadata": {
        "colab": {
          "base_uri": "https://localhost:8080/",
          "height": 511
        },
        "id": "bBLKTjgmr10E",
        "outputId": "30447571-b253-494f-b73b-4d1c60541aa5"
      },
      "source": [
        "linear_lr = m.fit(x=train_data, y=y_train, batch_size=Config.batch_size, epochs=Config.epochs,\n",
        "                  validation_split=0.2, callbacks=[LRrangeTest(min_lr=1e-3, max_lr=1, policy='linear')])"
      ],
      "execution_count": null,
      "outputs": [
        {
          "output_type": "stream",
          "name": "stdout",
          "text": [
            "Learning rates are initiated\n",
            "Epoch 1/3\n",
            "157/157 [==============================] - 92s 573ms/step - loss: 1.7947 - accuracy: 0.3270 - lr: 0.1664 - best_loss: 1.9758 - val_loss: 4.8736 - val_accuracy: 0.2340\n",
            "Epoch 2/3\n",
            "157/157 [==============================] - 87s 556ms/step - loss: 1.5309 - accuracy: 0.4369 - lr: 0.4994 - best_loss: 1.5367 - val_loss: 22.6606 - val_accuracy: 0.1060\n",
            "Epoch 3/3\n",
            "157/157 [==============================] - 16s 100ms/step - loss: 3.0819 - accuracy: 0.3451 - lr: 0.6882 - val_loss: 672.8099 - val_accuracy: 0.1016\n"
          ]
        },
        {
          "output_type": "display_data",
          "data": {
            "image/png": "[encoded data removed]",
            "text/plain": [
              "<Figure size 864x432 with 1 Axes>"
            ]
          },
          "metadata": {
            "needs_background": "light"
          }
        }
      ]
    },
    {
      "cell_type": "code",
      "metadata": {
        "colab": {
          "base_uri": "https://localhost:8080/"
        },
        "id": "F4-njGtYqry0",
        "outputId": "41bfcdea-c0ce-4e05-b54a-7d231ef0022c"
      },
      "source": [
        "m2 = model(block_args)"
      ],
      "execution_count": null,
      "outputs": [
        {
          "output_type": "stream",
          "name": "stdout",
          "text": [
            "Stage: 2-1, shape: (None, 16, 16, 32)\n",
            "Stage: 2-2, shape: (None, 16, 16, 32)\n",
            "Stage: 3-1, shape: (None, 8, 8, 64)\n",
            "Stage: 3-2, shape: (None, 8, 8, 64)\n",
            "Stage: 3-3, shape: (None, 8, 8, 64)\n",
            "KerasTensor(type_spec=TensorSpec(shape=(None, 10), dtype=tf.float32, name=None), name='dense_13/Softmax:0', description=\"created by layer 'dense_13'\")\n"
          ]
        }
      ]
    },
    {
      "cell_type": "code",
      "metadata": {
        "colab": {
          "base_uri": "https://localhost:8080/",
          "height": 511
        },
        "id": "Ra8uzj_QxBFP",
        "outputId": "bd229fc3-8b37-433e-a0d9-707042c8cb77"
      },
      "source": [
        "exponential_lr = m2.fit(x=train_data, y=y_train, batch_size=Config.batch_size, epochs=Config.epochs, \n",
        "                        validation_split=0.2, callbacks=[LRrangeTest(min_lr=1e-3, max_lr=1, policy='exponential')])"
      ],
      "execution_count": null,
      "outputs": [
        {
          "output_type": "stream",
          "name": "stdout",
          "text": [
            "Learning rates are initiated\n",
            "Epoch 1/3\n",
            "157/157 [==============================] - 106s 662ms/step - loss: 2.0931 - accuracy: 0.2242 - lr: 0.0039 - best_loss: 2.2400 - val_loss: 2.4020 - val_accuracy: 0.1078\n",
            "Epoch 2/3\n",
            "157/157 [==============================] - 96s 612ms/step - loss: 1.7289 - accuracy: 0.3568 - lr: 0.0388 - best_loss: 1.7799 - val_loss: 2.7763 - val_accuracy: 0.2827\n",
            "Epoch 3/3\n",
            "157/157 [==============================] - 96s 612ms/step - loss: 1.6152 - accuracy: 0.4051 - lr: 0.3880 - best_loss: 1.5834 - val_loss: 29.7101 - val_accuracy: 0.0867\n"
          ]
        },
        {
          "output_type": "display_data",
          "data": {
            "image/png": "[encoded data removed]",
            "text/plain": [
              "<Figure size 864x432 with 1 Axes>"
            ]
          },
          "metadata": {
            "needs_background": "light"
          }
        }
      ]
    },
    {
      "cell_type": "code",
      "metadata": {
        "colab": {
          "base_uri": "https://localhost:8080/",
          "height": 298
        },
        "id": "pAK8rHq4s7H7",
        "outputId": "1b6b1a91-8dda-4c74-9473-f7824f8623fc"
      },
      "source": [
        "plt.plot(np.linspace(start=1e-3, stop=1, num=300), label='Linear')\n",
        "plt.plot(np.geomspace(start=1e-3, stop=1, num=300), label='Explonential')\n",
        "plt.legend()\n",
        "plt.ylabel('LR')\n",
        "plt.title('LR policy')"
      ],
      "execution_count": 51,
      "outputs": [
        {
          "output_type": "execute_result",
          "data": {
            "text/plain": [
              "Text(0.5, 1.0, 'LR policy')"
            ]
          },
          "metadata": {},
          "execution_count": 51
        },
        {
          "output_type": "display_data",
          "data": {
            "image/png": "[encoded data removed]",
            "text/plain": [
              "<Figure size 432x288 with 1 Axes>"
            ]
          },
          "metadata": {
            "needs_background": "light"
          }
        }
      ]
    },
    {
      "cell_type": "markdown",
      "metadata": {
        "id": "68I4v8-wSsoI"
      },
      "source": [
        "## Further study:\n",
        "1. Fix seeds every weight. Every test results wasn't consistent.\n",
        "2. Cyclical Learning Rate"
      ]
    },
    {
      "cell_type": "code",
      "metadata": {
        "id": "dGFB8aFure2k"
      },
      "source": [
        ""
      ],
      "execution_count": null,
      "outputs": []
    }
  ]
}