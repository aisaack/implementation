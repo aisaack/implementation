{
  "nbformat": 4,
  "nbformat_minor": 0,
  "metadata": {
    "colab": {
      "name": "LR_range_test.ipynb",
      "provenance": [],
      "collapsed_sections": [],
      "authorship_tag": "ABX9TyPzF+wBCkzBnKsQoQcyxn06"
    },
    "kernelspec": {
      "name": "python3",
      "display_name": "Python 3"
    },
    "language_info": {
      "name": "python"
    }
  },
  "cells": [
    {
      "cell_type": "markdown",
      "metadata": {
        "id": "O9XVkBuTOmFe"
      },
      "source": [
        "# Learning Rate Range Test\n",
        "### Reference\n",
        "1. [Cyclical Learning Rates for Training Neural Networks](https://arxiv.org/abs/1506.01186)\n",
        "\n",
        "The most important hyperparameter is learning rate, however it's cumbersome work for finding just the right learning rate. Every model, problem, and dataset requires different learning rate. Some researchers initiate ramdom high learning rate, then decay it under certian conditions for example every N epochs or loss / accuracy doesn't get imporved etc.\n",
        "\n",
        "This test is originally used for finding learning rate range."
      ]
    },
    {
      "cell_type": "code",
      "metadata": {
        "id": "t-8kwoBFExiC"
      },
      "source": [
        "import numpy as np\n",
        "import matplotlib.pyplot as plt\n",
        "import tensorflow as tf\n",
        "from tensorflow.keras import layers\n",
        "from tensorflow.keras import models\n",
        "from tensorflow.keras import optimizers\n",
        "from tensorflow.keras import callbacks\n",
        "from tensorflow.keras import backend\n",
        "\n",
        "seed_value = 142\n",
        "tf.random.set_seed(seed_value)\n",
        "a = layers.Conv2D(filters=1, kernel_size=(2, 2), kernel_initializer=tf.keras.initializers.GlorotUniform(seed=12))\n",
        "a(np.random.randn(1, 2, 2, 1))\n",
        "a.get_weights()\n",
        "\n",
        "\n",
        "class Config:\n",
        "  epochs = 8\n",
        "  batch_size = 256\n",
        "  lr = 0.001\n",
        "  min_lr = 0.001\n",
        "  max_lr = 0.1\n",
        "  # loss = keras.losses.SparseCategoricalCrossentropy(from_logits=True)\n",
        "  # metrics = keras.metrics.Accuracy()\n",
        "  loss = 'sparse_categorical_crossentropy'\n",
        "  metrics = 'accuracy'\n",
        "  init = tf.keras.initializers.GlorotNormal(seed=2836)"
      ],
      "execution_count": 10,
      "outputs": []
    },
    {
      "cell_type": "code",
      "metadata": {
        "id": "cvnZt1YxfKmr"
      },
      "source": [
        "class ResBlock(models.Model):\n",
        "  def __init__(self, filters, layer):\n",
        "    super().__init__()\n",
        "    f1, f2, f3 = filters\n",
        "    self.layer = layer\n",
        "    self.BN1 = layers.BatchNormalization()\n",
        "    self.swish1 = layers.Activation(activation=tf.nn.swish)\n",
        "    self.conv1 = layers.Conv2D(filters=f1, kernel_size=(1, 1), strides=(1, 1) if self.layer > 0 else (2, 2), padding='same', kernel_initializer=Config.init)\n",
        "    self.BN2 = layers.BatchNormalization()\n",
        "    self.swish2 = layers.Activation(activation=tf.nn.swish)\n",
        "    self.conv2 = layers.Conv2D(filters=f2, kernel_size=(3, 3), strides=(1, 1), padding='same', kernel_initializer=Config.init)\n",
        "    self.BN3 = layers.BatchNormalization()\n",
        "    self.swish3 = layers.Activation(activation=tf.nn.swish)\n",
        "    self.conv3 = layers.Conv2D(filters=f3, kernel_size=(1, 1), strides=(1, 1), padding='same', kernel_initializer=Config.init)\n",
        "    self.id = layers.Conv2D(filters=f3, kernel_size=(1, 1), strides=(1, 1) if self.layer > 0 else (2, 2), padding='same', kernel_initializer=Config.init)\n",
        "    self.add = layers.Add()\n",
        "    self.BN4 = layers.BatchNormalization()\n",
        "\n",
        "  def call(self, X):\n",
        "    x = self.BN1(X)\n",
        "    x = self.swish1(x)\n",
        "    x = self.conv1(x)\n",
        "    x = self.BN2(x)\n",
        "    x = self.swish2(x)\n",
        "    x = self.conv2(x)\n",
        "    x = self.BN3(x)\n",
        "    x = self.swish3(x)\n",
        "    x = self.conv3(x)\n",
        "    if self.layer == 0:\n",
        "      id = self.id(X)\n",
        "      id = self.BN4(id)\n",
        "      return self.add([x, id])\n",
        "    return self.add([x, X])"
      ],
      "execution_count": 11,
      "outputs": []
    },
    {
      "cell_type": "code",
      "metadata": {
        "id": "lZ25CEu7HEH6"
      },
      "source": [
        "block_args = [\n",
        "              {'filters': [8, 8, 32], 'repeat': 2},\n",
        "              {'filters': [16, 16, 64], 'repeat': 3},\n",
        "              ]\n",
        "\n",
        "def model(args):\n",
        "  inputs = layers.Input(shape=(32, 32, 3))\n",
        "  x = layers.Conv2D(filters=4, kernel_size=(1, 1), strides=(1, 1), padding='same')(inputs)\n",
        "  \n",
        "  for stage, arg in enumerate(args):\n",
        "    for layer in range(arg['repeat']):\n",
        "      x = ResBlock(arg['filters'], layer)(x)\n",
        "      print(f'Stage: {stage+2}-{layer+1}, shape: {x.shape}')\n",
        "  x = layers.AveragePooling2D(pool_size=(8, 8))(x)\n",
        "  x = layers.Flatten()(x)\n",
        "  x = layers.Dense(units=10, activation='softmax')(x)\n",
        "  print(x)\n",
        "  out = models.Model(inputs=inputs, outputs=x)\n",
        "  out.compile(optimizer=optimizers.SGD(learning_rate=Config.lr, momentum=0.9), loss=Config.loss, metrics=Config.metrics)\n",
        "  return out"
      ],
      "execution_count": 12,
      "outputs": []
    },
    {
      "cell_type": "code",
      "metadata": {
        "id": "zZB6E0j-pXht",
        "colab": {
          "base_uri": "https://localhost:8080/"
        },
        "outputId": "033c4b2d-559a-48f3-c7b6-406ed30a21e1"
      },
      "source": [
        "(x_train, y_train), (x_test, y_test) = tf.keras.datasets.cifar10.load_data()\n",
        "\n",
        "class Preproseccing:  \n",
        "  def normalize(self, X):\n",
        "    return X / 255.\n",
        "\n",
        "  def zero_centered(self, X):\n",
        "    return X - 0.5\n",
        "\n",
        "  def __call__(self, X):\n",
        "    x = self.normalize(X)\n",
        "    x = self.zero_centered(x)\n",
        "    return x\n",
        "\n",
        "train_data = Preproseccing()(x_train)\n",
        "test_data = Preproseccing()(x_test)"
      ],
      "execution_count": 13,
      "outputs": [
        {
          "output_type": "stream",
          "name": "stdout",
          "text": [
            "Downloading data from https://www.cs.toronto.edu/~kriz/cifar-10-python.tar.gz\n",
            "170500096/170498071 [==============================] - 11s 0us/step\n",
            "170508288/170498071 [==============================] - 11s 0us/step\n"
          ]
        }
      ]
    },
    {
      "cell_type": "code",
      "metadata": {
        "id": "59RpCy_Qzw2b"
      },
      "source": [
        "class LRrangeTest(callbacks.Callback):\n",
        "  def __init__(self, min_lr=1e-9, max_lr=1e+1, policy: str='linear'):\n",
        "    self.min_lr = min_lr\n",
        "    self.max_lr = max_lr\n",
        "    self.policy = policy\n",
        "    self.epochs = None\n",
        "    self.steps = None\n",
        "    self.num_iter = None\n",
        "    self.iter_counter = 0\n",
        "    self.learning_rates = None\n",
        "    self.losses = []\n",
        "    self.lowest_loss = None\n",
        "    self.accuracies = []\n",
        "\n",
        "  def on_train_begin(self, logs=None):\n",
        "    self.epochs = self.params.get('epochs')\n",
        "    self.steps = self.params.get('steps')\n",
        "    self.num_iter = self.epochs * self.steps\n",
        "    if self.policy == 'linear':\n",
        "      self.learning_rates = np.linspace(start=self.min_lr, stop=self.max_lr, num=self.num_iter+1)\n",
        "    elif self.policy == 'exponential':\n",
        "      self.learning_rates = np.geomspace(start=self.min_lr, stop=self.max_lr, num=self.num_iter+1)\n",
        "    print('Learning rates are initiated')\n",
        "    if self.min_lr:\n",
        "      backend.set_value(self.model.optimizer.learning_rate, self.min_lr)\n",
        "    else:\n",
        "      backend.set_value(self.model.optimizer.learning_rate, self.learning_rates[self.iter_counter])\n",
        "   \n",
        "\n",
        "  def on_batch_end(self, batch, logs=None):\n",
        "    lr = backend.get_value(self.model.optimizer.learning_rate)\n",
        "    logs['lr'] = lr\n",
        "\n",
        "    loss = logs.get('loss')\n",
        "    if self.iter_counter == 0 or loss < self.lowest_loss:\n",
        "      self.lowest_loss = loss\n",
        "      logs['best_loss'] = self.lowest_loss\n",
        "    \n",
        "    if loss > self.lowest_loss * 2:\n",
        "      self.model.stop_training = True\n",
        "    self.losses.append(loss)\n",
        "    accuracy = logs.get('accuracy')\n",
        "    self.accuracies.append(accuracy)\n",
        "\n",
        "    self.iter_counter += 1\n",
        "    next_lr = self.learning_rates[self.iter_counter]\n",
        "    # print(f' - next_lr: {next_lr}')\n",
        "    backend.set_value(self.model.optimizer.learning_rate, next_lr)\n",
        "\n",
        "  def plot_loss(self):\n",
        "    plt.figure(figsize=(12, 6))\n",
        "    plt.plot(self.learning_rates[:len(self.losses)], self.losses)\n",
        "    plt.xlabel(\"Learning Rate\")\n",
        "    plt.ylabel(\"Loss\")\n",
        "    plt.xscale('log')\n",
        "    plt.show()\n",
        "\n",
        "  def plot_accuracy(self):\n",
        "    plt.figure(figsize=(12, 6))\n",
        "    plt.plot(self.learning_rates[:len(self.accuracies)], self.accuracies)\n",
        "    plt.xlabel(\"Learning Rate\")\n",
        "    plt.ylabel(\"Accuracy\")\n",
        "    plt.show()\n",
        "\n",
        "  def on_train_end(self, logs=None):\n",
        "    self.plot_loss()\n",
        "    self.plot_accuracy()"
      ],
      "execution_count": 14,
      "outputs": []
    },
    {
      "cell_type": "code",
      "metadata": {
        "colab": {
          "base_uri": "https://localhost:8080/"
        },
        "id": "5ius7CHpIhj6",
        "outputId": "2a7839e1-9094-4e94-ad21-78b87de3f988"
      },
      "source": [
        "m = model(block_args)"
      ],
      "execution_count": 15,
      "outputs": [
        {
          "output_type": "stream",
          "name": "stdout",
          "text": [
            "Stage: 2-1, shape: (None, 16, 16, 32)\n",
            "Stage: 2-2, shape: (None, 16, 16, 32)\n",
            "Stage: 3-1, shape: (None, 8, 8, 64)\n",
            "Stage: 3-2, shape: (None, 8, 8, 64)\n",
            "Stage: 3-3, shape: (None, 8, 8, 64)\n",
            "KerasTensor(type_spec=TensorSpec(shape=(None, 10), dtype=tf.float32, name=None), name='dense/Softmax:0', description=\"created by layer 'dense'\")\n"
          ]
        }
      ]
    },
    {
      "cell_type": "code",
      "metadata": {
        "colab": {
          "base_uri": "https://localhost:8080/",
          "height": 1000
        },
        "id": "bBLKTjgmr10E",
        "outputId": "83caf162-2c3b-4b9d-ad4f-da3d29a67d63"
      },
      "source": [
        "linear_lr = m.fit(x=train_data, y=y_train, batch_size=Config.batch_size, epochs=Config.epochs,\n",
        "                  validation_split=0.2, callbacks=[LRrangeTest(min_lr=1e-3, max_lr=1, policy='linear')])"
      ],
      "execution_count": 16,
      "outputs": [
        {
          "output_type": "stream",
          "name": "stdout",
          "text": [
            "Learning rates are initiated\n",
            "Epoch 1/8\n",
            "157/157 [==============================] - 87s 539ms/step - loss: 1.8875 - accuracy: 0.3083 - lr: 0.0630 - best_loss: 2.1287 - val_loss: 3.1698 - val_accuracy: 0.1094\n",
            "Epoch 2/8\n",
            "157/157 [==============================] - 85s 539ms/step - loss: 1.5617 - accuracy: 0.4215 - lr: 0.1879 - best_loss: 1.5878 - val_loss: 3.5641 - val_accuracy: 0.2153\n",
            "Epoch 3/8\n",
            "157/157 [==============================] - 85s 541ms/step - loss: 1.4123 - accuracy: 0.4829 - lr: 0.3128 - best_loss: 1.4492 - val_loss: 7.2287 - val_accuracy: 0.2211\n",
            "Epoch 4/8\n",
            "157/157 [==============================] - 84s 536ms/step - loss: 1.3346 - accuracy: 0.5142 - lr: 0.4377 - best_loss: 1.3204 - val_loss: 8.9223 - val_accuracy: 0.1848\n",
            "Epoch 5/8\n",
            "157/157 [==============================] - 84s 538ms/step - loss: 1.2894 - accuracy: 0.5333 - lr: 0.5625 - best_loss: 1.1880 - val_loss: 4.8598 - val_accuracy: 0.2765\n",
            "Epoch 6/8\n",
            "157/157 [==============================] - 85s 543ms/step - loss: 1.2861 - accuracy: 0.5376 - lr: 0.6874 - val_loss: 4.9051 - val_accuracy: 0.3154\n",
            "Epoch 7/8\n",
            "157/157 [==============================] - 85s 543ms/step - loss: 1.3658 - accuracy: 0.5195 - lr: 0.8123 - val_loss: 6.4604 - val_accuracy: 0.2012\n",
            "Epoch 8/8\n",
            "157/157 [==============================] - 28s 176ms/step - loss: 2.8870 - accuracy: 0.4231 - lr: 0.8910 - val_loss: 74.8621 - val_accuracy: 0.1529\n"
          ]
        },
        {
          "output_type": "display_data",
          "data": {
            "image/png": "[encoded data removed]",
            "text/plain": [
              "<Figure size 864x432 with 1 Axes>"
            ]
          },
          "metadata": {
            "needs_background": "light"
          }
        },
        {
          "output_type": "display_data",
          "data": {
            "image/png": "[encoded data removed]",
            "text/plain": [
              "<Figure size 864x432 with 1 Axes>"
            ]
          },
          "metadata": {
            "needs_background": "light"
          }
        }
      ]
    },
    {
      "cell_type": "code",
      "metadata": {
        "colab": {
          "base_uri": "https://localhost:8080/",
          "height": 298
        },
        "id": "pAK8rHq4s7H7",
        "outputId": "6decf591-f6a1-4ca4-cb98-d71422616b4a"
      },
      "source": [
        "plt.plot(np.linspace(start=1e-3, stop=1, num=300), label='Linear')\n",
        "plt.plot(np.geomspace(start=1e-3, stop=1, num=300), label='Explonential')\n",
        "plt.legend()\n",
        "plt.ylabel('LR')\n",
        "plt.title('LR policy')"
      ],
      "execution_count": null,
      "outputs": [
        {
          "output_type": "execute_result",
          "data": {
            "text/plain": [
              "Text(0.5, 1.0, 'LR policy')"
            ]
          },
          "metadata": {},
          "execution_count": 14
        },
        {
          "output_type": "display_data",
          "data": {
            "image/png": "[encoded data removed]",
            "text/plain": [
              "<Figure size 432x288 with 1 Axes>"
            ]
          },
          "metadata": {
            "needs_background": "light"
          }
        }
      ]
    },
    {
      "cell_type": "markdown",
      "metadata": {
        "id": "68I4v8-wSsoI"
      },
      "source": [
        "## Further study:\n",
        "1. Fix seeds every weight since test results wasn't consistent.\n",
        "2. Cyclical Learning Rate"
      ]
    },
    {
      "cell_type": "code",
      "metadata": {
        "id": "dGFB8aFure2k"
      },
      "source": [
        ""
      ],
      "execution_count": null,
      "outputs": []
    }
  ]
}