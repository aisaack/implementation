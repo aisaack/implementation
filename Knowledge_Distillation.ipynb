{
  "nbformat": 4,
  "nbformat_minor": 0,
  "metadata": {
    "colab": {
      "name": "Knowledge Distillation.ipynb",
      "provenance": [],
      "collapsed_sections": [],
      "authorship_tag": "ABX9TyN4oZLhD++ZW8YYWFdQAFQ4"
    },
    "kernelspec": {
      "name": "python3",
      "display_name": "Python 3"
    },
    "language_info": {
      "name": "python"
    },
    "accelerator": "GPU"
  },
  "cells": [
    {
      "cell_type": "markdown",
      "source": [
        "# Distilling the Knowledge in a Neural Network\n",
        "### Reference\n",
        "1. [paper](https://arxiv.org/abs/1503.02531)\n",
        "2. [keras](https://keras.io/examples/vision/knowledge_distillation/)"
      ],
      "metadata": {
        "id": "jclmixzh7XFZ"
      }
    },
    {
      "cell_type": "code",
      "execution_count": 1,
      "metadata": {
        "id": "6c5elPcXC5JR"
      },
      "outputs": [],
      "source": [
        "import tensorflow as tf\n",
        "from tensorflow.keras import layers\n",
        "from tensorflow.keras import models\n",
        "from tensorflow.keras import losses\n",
        "from tensorflow.keras import metrics\n",
        "from tensorflow.keras import optimizers\n",
        "from tensorflow.keras import initializers\n",
        "from tensorflow.keras import regularizers\n",
        "from tensorflow.keras import callbacks\n",
        "from tensorflow.keras import backend"
      ]
    },
    {
      "cell_type": "markdown",
      "source": [
        "# Teacher model"
      ],
      "metadata": {
        "id": "a7slU0Gyyp56"
      }
    },
    {
      "cell_type": "code",
      "source": [
        "def building_block(filter, args, stage, block):\n",
        "  def resblock(X_in):\n",
        "    x = layers.BatchNormalization()(X_in)\n",
        "    x = layers.ReLU()(x)\n",
        "    x = layers.Conv2D(filters=filter,\n",
        "                      kernel_size=(3, 3),\n",
        "                      strides=(1, 1) if stage == 0 or block > 0 else (2, 2),\n",
        "                      padding='same',\n",
        "                      kernel_initializer=args.init,\n",
        "                      kernel_regularizer=args.reg)(x)\n",
        "\n",
        "    x = layers.BatchNormalization()(x)\n",
        "    x = layers.ReLU()(x)\n",
        "    x = layers.Conv2D(filters=filter,\n",
        "                      kernel_size=(3, 3),\n",
        "                      strides=(1, 1),\n",
        "                      padding='same',\n",
        "                      kernel_initializer=args.init,\n",
        "                      kernel_regularizer=args.reg)(x)\n",
        "\n",
        "    if stage == 0 or block > 0:\n",
        "      x_out = layers.Add()([x, X_in])\n",
        "    else:\n",
        "      id = layers.Conv2D(filters=filter,\n",
        "                        kernel_size=(1, 1),\n",
        "                        strides=(2, 2),\n",
        "                        padding='same',\n",
        "                        kernel_initializer=args.init,\n",
        "                        kernel_regularizer=args.reg)(X_in)\n",
        "      x_out = layers.Add()([x, id])\n",
        "    return x_out\n",
        "  return resblock"
      ],
      "metadata": {
        "id": "6QMVsWJPyXD5"
      },
      "execution_count": 2,
      "outputs": []
    },
    {
      "cell_type": "code",
      "source": [
        "def build_model(args):\n",
        "  X_in = layers.Input(shape=args.input_shape)\n",
        "  x = layers.Conv2D(filters=args.filters[0],\n",
        "                    kernel_size=(3, 3),\n",
        "                    strides=(1, 1),\n",
        "                    padding='same',\n",
        "                    kernel_initializer=args.init,\n",
        "                    kernel_regularizer=args.reg)(X_in)\n",
        "  for stage, filter in enumerate(args.filters):\n",
        "    for block in range(args.blocks):\n",
        "      x = building_block(filter, args, stage, block)(x)\n",
        "      print(f'{stage+2}-{block+1}block {x.shape}')\n",
        "\n",
        "  x = layers.GlobalAveragePooling2D()(x)\n",
        "  x_out = layers.Dense(units=args.num_class)(x)\n",
        "  return models.Model(inputs=X_in, outputs=x_out)"
      ],
      "metadata": {
        "id": "O7JI2ma00Ral"
      },
      "execution_count": 3,
      "outputs": []
    },
    {
      "cell_type": "code",
      "source": [
        "class Config:\n",
        "  lr = 1e-2\n",
        "  batch_size = 128\n",
        "  epochs = 14\n",
        "  weight_decay = 1e-4\n",
        "  decay_step = 2\n",
        "  input_shape = (28, 28, 1)\n",
        "  filters = [16, 32, 64]\n",
        "  blocks = 3\n",
        "  num_class = 10\n",
        "  opt = optimizers.Adam(learning_rate=lr)\n",
        "  loss = losses.SparseCategoricalCrossentropy(from_logits=True)\n",
        "  metric = metrics.SparseCategoricalAccuracy()\n",
        "  init = initializers.HeNormal()\n",
        "  reg = regularizers.L2(l2=weight_decay)"
      ],
      "metadata": {
        "id": "d_3Spp7Y159B"
      },
      "execution_count": 4,
      "outputs": []
    },
    {
      "cell_type": "code",
      "source": [
        "big_model = build_model(Config)"
      ],
      "metadata": {
        "colab": {
          "base_uri": "https://localhost:8080/"
        },
        "id": "Lz3_DZqH3RrA",
        "outputId": "96915aa9-51dd-4129-fe0c-aa90eabae955"
      },
      "execution_count": 5,
      "outputs": [
        {
          "output_type": "stream",
          "name": "stdout",
          "text": [
            "2-1block (None, 28, 28, 16)\n",
            "2-2block (None, 28, 28, 16)\n",
            "2-3block (None, 28, 28, 16)\n",
            "3-1block (None, 14, 14, 32)\n",
            "3-2block (None, 14, 14, 32)\n",
            "3-3block (None, 14, 14, 32)\n",
            "4-1block (None, 7, 7, 64)\n",
            "4-2block (None, 7, 7, 64)\n",
            "4-3block (None, 7, 7, 64)\n"
          ]
        }
      ]
    },
    {
      "cell_type": "code",
      "source": [
        "def input_pipeline(feature, label, batch_size, validation_split:float=0.1, pad:int=4):\n",
        "  try:\n",
        "    N, H, W, C = feature.shape\n",
        "  except:\n",
        "    feature = tf.expand_dims(feature, axis=-1)\n",
        "    N, H, W, C = feature.shape\n",
        "\n",
        "  ds = tf.data.Dataset.from_tensor_slices((feature, label))\n",
        "  ds = ds.map(lambda x, y: (tf.divide(tf.cast(x, tf.float32), 255.), y))\n",
        "  ds = ds.map(lambda x, y: (tf.divide(tf.subtract(x, tf.math.reduce_mean(x)), tf.math.reduce_std(x)), y))\n",
        "  ds = ds.shuffle(1000)\n",
        "  ds = ds.cache()\n",
        "\n",
        "  assert 0 <= validation_split < 1\n",
        "  if validation_split:\n",
        "    val_len = int(N * validation_split)\n",
        "    val_ds = ds.take(val_len)\n",
        "    train_ds = ds.skip(val_len)\n",
        "\n",
        "  crop = train_ds.map(lambda x, y: (tf.image.resize_with_pad(x, H+pad*2, W+pad*2), y))\n",
        "  crop = crop.map(lambda x, y: (tf.image.random_crop(x, (H, W, C)), y))\n",
        "  train_ds = train_ds.concatenate(crop)\n",
        "  train_ds = train_ds.shuffle(1000)\n",
        "  train_ds = train_ds.cache()\n",
        "  train_ds = train_ds.batch(batch_size=batch_size)\n",
        "  val_ds = val_ds.batch(batch_size=batch_size)\n",
        "  val_ds = val_ds.prefetch(1)\n",
        "  train_ds = train_ds.prefetch(1)\n",
        "  print('Trian mini batch: ', train_ds.cardinality().numpy(), '           val mini batch: ', val_ds.cardinality().numpy())\n",
        "  return train_ds, val_ds"
      ],
      "metadata": {
        "id": "E1l4JmO73YEu"
      },
      "execution_count": 6,
      "outputs": []
    },
    {
      "cell_type": "code",
      "source": [
        "(x_train, y_train), (x_test, y_test) = tf.keras.datasets.mnist.load_data()"
      ],
      "metadata": {
        "id": "LszTzBJY8wZ1",
        "colab": {
          "base_uri": "https://localhost:8080/"
        },
        "outputId": "9e1dfd8b-6d5f-4bd6-949c-5c1acf7bc922"
      },
      "execution_count": 7,
      "outputs": [
        {
          "output_type": "stream",
          "name": "stdout",
          "text": [
            "Downloading data from https://storage.googleapis.com/tensorflow/tf-keras-datasets/mnist.npz\n",
            "11493376/11490434 [==============================] - 0s 0us/step\n",
            "11501568/11490434 [==============================] - 0s 0us/step\n"
          ]
        }
      ]
    },
    {
      "cell_type": "code",
      "source": [
        "train_ds, val_ds = input_pipeline(x_train, y_train, Config.batch_size)"
      ],
      "metadata": {
        "colab": {
          "base_uri": "https://localhost:8080/"
        },
        "id": "Hsjsv2R0AoVW",
        "outputId": "1ebdb923-b833-42f1-f884-e9309960a660"
      },
      "execution_count": 8,
      "outputs": [
        {
          "output_type": "stream",
          "name": "stdout",
          "text": [
            "Trian mini batch:  844            val mini batch:  47\n"
          ]
        }
      ]
    },
    {
      "cell_type": "code",
      "source": [
        "class DecoupleHelper(callbacks.Callback):\n",
        "  def __init__(self, init_lr, decay_steps, regularizer:bool=None):\n",
        "    self.init_lr = init_lr\n",
        "    self.regularizer = regularizer\n",
        "    self.weight_decay = None\n",
        "    if self.regularizer:\n",
        "      self.weight_decay = self.regularizer.l2\n",
        "    self.decay_steps = decay_steps\n",
        "    self.best_acc = None\n",
        "    self.best_weights = None\n",
        "    self.best_epoch = None\n",
        "    self.iter_counter = 0\n",
        "\n",
        "  def on_train_begin(self, logs=None):\n",
        "    if not hasattr(self.model.optimizer.lr, 'lr'):\n",
        "      backend.set_value(self.model.optimizer.lr, self.init_lr)\n",
        "\n",
        "  def on_epoch_end(self, epoch, logs=None):\n",
        "    next_lr = optimizers.schedules.CosineDecayRestarts(initial_learning_rate=self.init_lr,\n",
        "                                                       first_decay_steps=self.decay_steps)(epoch+1).numpy()\n",
        "    backend.set_value(self.model.optimizer.lr, next_lr)\n",
        "    logs.update({'next_lr': next_lr})\n",
        "    if self.regularizer:\n",
        "      next_wd = optimizers.schedules.CosineDecayRestarts(initial_learning_rate=self.weight_decay,\n",
        "                                                         first_decay_steps=self.decay_steps)(epoch+1).numpy()\n",
        "      self.regularizer.lr = next_wd\n",
        "      logs.update({'next_wd': next_wd})\n",
        "    curr_acc = logs.get('val_sparse_categorical_accuracy')\n",
        "    if self.best_acc is None:\n",
        "      self.best_acc = curr_acc\n",
        "    \n",
        "    if self.best_acc < curr_acc:\n",
        "      self.best_acc = curr_acc\n",
        "      self.best_weights = self.model.get_weights()\n",
        "      self.best_epoch = epoch\n",
        "      logs.update({'WEIGHT UPDATED': True})\n",
        "\n",
        "  def on_train_end(self, logs=None):\n",
        "    if self.best_weights:\n",
        "      self.model.set_weights(self.best_weights)\n",
        "      print('Training end')"
      ],
      "metadata": {
        "id": "3BVqhVooAulU"
      },
      "execution_count": 9,
      "outputs": []
    },
    {
      "cell_type": "markdown",
      "source": [
        "## Train teacher model"
      ],
      "metadata": {
        "id": "NTr0P4evyzja"
      }
    },
    {
      "cell_type": "code",
      "source": [
        "big_model.compile(optimizer=Config.opt,\n",
        "                  loss=Config.loss,\n",
        "                  metrics=Config.metric)"
      ],
      "metadata": {
        "id": "ZNPjDBQvEibN"
      },
      "execution_count": 10,
      "outputs": []
    },
    {
      "cell_type": "code",
      "source": [
        "import numpy as np\n",
        "import matplotlib.pyplot as plt\n",
        "log = []\n",
        "for i in range(14):\n",
        "  lr = optimizers.schedules.CosineDecayRestarts(initial_learning_rate=1e-2, first_decay_steps=2)(i).numpy()\n",
        "  log.append(lr)\n",
        "\n",
        "plt.plot(log)"
      ],
      "metadata": {
        "colab": {
          "base_uri": "https://localhost:8080/",
          "height": 282
        },
        "id": "GnW2Y36TDA19",
        "outputId": "0a835aa1-a676-4e22-e921-a9594958acd5"
      },
      "execution_count": 11,
      "outputs": [
        {
          "output_type": "execute_result",
          "data": {
            "text/plain": [
              "[<matplotlib.lines.Line2D at 0x7fe3c1b87c50>]"
            ]
          },
          "metadata": {},
          "execution_count": 11
        },
        {
          "output_type": "display_data",
          "data": {
            "text/plain": [
              "<Figure size 432x288 with 1 Axes>"
            ],
            "image/png": "[encoded data removed]"
          },
          "metadata": {
            "needs_background": "light"
          }
        }
      ]
    },
    {
      "cell_type": "code",
      "source": [
        "big_model.fit(x=train_ds,\n",
        "              validation_data=val_ds,\n",
        "              epochs=Config.epochs,\n",
        "              callbacks=[DecoupleHelper(init_lr=Config.lr,\n",
        "                                    decay_steps=Config.decay_step,\n",
        "                                    regularizer=Config.reg)])"
      ],
      "metadata": {
        "colab": {
          "base_uri": "https://localhost:8080/"
        },
        "id": "n4hTFppfEtsa",
        "outputId": "f7da20b9-9f45-4cfc-c3cf-4149ae35ae3f"
      },
      "execution_count": 12,
      "outputs": [
        {
          "output_type": "stream",
          "name": "stdout",
          "text": [
            "Epoch 1/14\n",
            "844/844 [==============================] - 73s 70ms/step - loss: 0.9589 - sparse_categorical_accuracy: 0.8684 - val_loss: 0.5162 - val_sparse_categorical_accuracy: 0.8723 - next_lr: 0.0050 - next_wd: 5.0000e-05\n",
            "Epoch 2/14\n",
            "844/844 [==============================] - 56s 67ms/step - loss: 0.1820 - sparse_categorical_accuracy: 0.9828 - val_loss: 0.2787 - val_sparse_categorical_accuracy: 0.9467 - next_lr: 0.0100 - next_wd: 1.0000e-04 - WEIGHT UPDATED: 1.0000\n",
            "Epoch 3/14\n",
            "844/844 [==============================] - 56s 67ms/step - loss: 0.2035 - sparse_categorical_accuracy: 0.9755 - val_loss: 0.2362 - val_sparse_categorical_accuracy: 0.9655 - next_lr: 0.0085 - next_wd: 8.5355e-05 - WEIGHT UPDATED: 1.0000\n",
            "Epoch 4/14\n",
            "844/844 [==============================] - 56s 66ms/step - loss: 0.1544 - sparse_categorical_accuracy: 0.9820 - val_loss: 0.3363 - val_sparse_categorical_accuracy: 0.9227 - next_lr: 0.0050 - next_wd: 5.0000e-05\n",
            "Epoch 5/14\n",
            "844/844 [==============================] - 56s 67ms/step - loss: 0.1170 - sparse_categorical_accuracy: 0.9870 - val_loss: 0.1849 - val_sparse_categorical_accuracy: 0.9660 - next_lr: 0.0015 - next_wd: 1.4645e-05 - WEIGHT UPDATED: 1.0000\n",
            "Epoch 6/14\n",
            "844/844 [==============================] - 56s 67ms/step - loss: 0.0809 - sparse_categorical_accuracy: 0.9935 - val_loss: 0.1151 - val_sparse_categorical_accuracy: 0.9822 - next_lr: 0.0100 - next_wd: 1.0000e-04 - WEIGHT UPDATED: 1.0000\n",
            "Epoch 7/14\n",
            "844/844 [==============================] - 56s 67ms/step - loss: 0.2040 - sparse_categorical_accuracy: 0.9739 - val_loss: 0.5844 - val_sparse_categorical_accuracy: 0.8540 - next_lr: 0.0096 - next_wd: 9.6194e-05\n",
            "Epoch 8/14\n",
            "844/844 [==============================] - 58s 69ms/step - loss: 0.1529 - sparse_categorical_accuracy: 0.9799 - val_loss: 0.9625 - val_sparse_categorical_accuracy: 0.7873 - next_lr: 0.0085 - next_wd: 8.5355e-05\n",
            "Epoch 9/14\n",
            "844/844 [==============================] - 56s 67ms/step - loss: 0.1321 - sparse_categorical_accuracy: 0.9823 - val_loss: 0.2246 - val_sparse_categorical_accuracy: 0.9568 - next_lr: 0.0069 - next_wd: 6.9134e-05\n",
            "Epoch 10/14\n",
            "844/844 [==============================] - 56s 67ms/step - loss: 0.1121 - sparse_categorical_accuracy: 0.9848 - val_loss: 0.2923 - val_sparse_categorical_accuracy: 0.9347 - next_lr: 0.0050 - next_wd: 5.0000e-05\n",
            "Epoch 11/14\n",
            "844/844 [==============================] - 56s 67ms/step - loss: 0.0901 - sparse_categorical_accuracy: 0.9879 - val_loss: 0.1329 - val_sparse_categorical_accuracy: 0.9753 - next_lr: 0.0031 - next_wd: 3.0866e-05\n",
            "Epoch 12/14\n",
            "844/844 [==============================] - 56s 66ms/step - loss: 0.0689 - sparse_categorical_accuracy: 0.9914 - val_loss: 0.0947 - val_sparse_categorical_accuracy: 0.9830 - next_lr: 0.0015 - next_wd: 1.4645e-05 - WEIGHT UPDATED: 1.0000\n",
            "Epoch 13/14\n",
            "844/844 [==============================] - 56s 66ms/step - loss: 0.0517 - sparse_categorical_accuracy: 0.9946 - val_loss: 0.0712 - val_sparse_categorical_accuracy: 0.9873 - next_lr: 3.8060e-04 - next_wd: 3.8060e-06 - WEIGHT UPDATED: 1.0000\n",
            "Epoch 14/14\n",
            "844/844 [==============================] - 56s 67ms/step - loss: 0.0416 - sparse_categorical_accuracy: 0.9965 - val_loss: 0.0594 - val_sparse_categorical_accuracy: 0.9912 - next_lr: 0.0100 - next_wd: 1.0000e-04 - WEIGHT UPDATED: 1.0000\n",
            "Training end\n"
          ]
        },
        {
          "output_type": "execute_result",
          "data": {
            "text/plain": [
              "<keras.callbacks.History at 0x7fe3c1b89b50>"
            ]
          },
          "metadata": {},
          "execution_count": 12
        }
      ]
    },
    {
      "cell_type": "code",
      "source": [
        "plt.plot(big_model.history.history.get('sparse_categorical_accuracy'), label='train')\n",
        "plt.plot(big_model.history.history.get('val_sparse_categorical_accuracy'), label='val')\n",
        "plt.legend()\n",
        "plt.grid()\n",
        "plt.xlabel('Epoch')\n",
        "plt.ylabel('Accuracy')\n",
        "plt.title('Teacher Model')"
      ],
      "metadata": {
        "colab": {
          "base_uri": "https://localhost:8080/",
          "height": 312
        },
        "id": "pAYPwBdiik0J",
        "outputId": "85dd2f71-708c-4b58-ce1c-25a274ba1c99"
      },
      "execution_count": 13,
      "outputs": [
        {
          "output_type": "execute_result",
          "data": {
            "text/plain": [
              "Text(0.5, 1.0, 'Teacher Model')"
            ]
          },
          "metadata": {},
          "execution_count": 13
        },
        {
          "output_type": "display_data",
          "data": {
            "text/plain": [
              "<Figure size 432x288 with 1 Axes>"
            ],
            "image/png": "[encoded data removed]"
          },
          "metadata": {
            "needs_background": "light"
          }
        }
      ]
    },
    {
      "cell_type": "markdown",
      "source": [
        "# Student model"
      ],
      "metadata": {
        "id": "7uhA52RaykYT"
      }
    },
    {
      "cell_type": "code",
      "source": [
        "small_model = models.Sequential()\n",
        "small_model.add(layers.Input(shape=Config.input_shape))\n",
        "small_model.add(layers.Conv2D(filters=16,\n",
        "                              kernel_size=(3, 3),\n",
        "                              strides=(1, 1),\n",
        "                              padding='same'))\n",
        "small_model.add(layers.Activation(tf.nn.relu))\n",
        "small_model.add(layers.MaxPooling2D(pool_size=(2, 2), strides=(2, 2)))\n",
        "small_model.add(layers.Conv2D(filters=32,\n",
        "                              kernel_size=(3, 3),\n",
        "                              strides=(1, 1),\n",
        "                              padding='same'))\n",
        "small_model.add(layers.Activation(tf.nn.relu))\n",
        "small_model.add(layers.MaxPooling2D(pool_size=(2, 2), strides=(2, 2)))\n",
        "small_model.add(layers.Conv2D(filters=64,\n",
        "                              kernel_size=(3, 3),\n",
        "                              strides=(1, 1),\n",
        "                              padding='same'))\n",
        "small_model.add(layers.GlobalAveragePooling2D())\n",
        "small_model.add(layers.Dense(units=Config.num_class))"
      ],
      "metadata": {
        "id": "_wBOIJlgNfZv"
      },
      "execution_count": 14,
      "outputs": []
    },
    {
      "cell_type": "markdown",
      "source": [
        "# Distiller class"
      ],
      "metadata": {
        "id": "rxcBN-Y6y6PQ"
      }
    },
    {
      "cell_type": "code",
      "source": [
        "class Distiller(models.Model):\n",
        "  def __init__(self, teacher, student):\n",
        "    super(Distiller, self).__init__()\n",
        "    self.teacher = teacher\n",
        "    self.student = student\n",
        "    self.t = None\n",
        "    self.alpha = None\n",
        "    self.student_objective = None\n",
        "    self.distiller_objective = None\n",
        "\n",
        "  def compile(self, optimizer, metrics, distiller_objective, student_objective, t, alpha):\n",
        "    super(Distiller, self).compile(optimizer=optimizer, metrics=metrics,)\n",
        "    self.distiller_objective = distiller_objective\n",
        "    self.student_objective = student_objective\n",
        "    self.t = t\n",
        "    self.alpha = alpha\n",
        "\n",
        "  def train_step(self, data):\n",
        "    x, y = data\n",
        "    teacher_pred = self.teacher(x, training=False)   # (batch, num_class)\n",
        "    with tf.GradientTape() as tape:\n",
        "      student_pred = self.student(x, training=True)   # (batch, num_class)\n",
        "      distiller_loss = self.distiller_objective(tf.nn.softmax(teacher_pred / self.t, axis=1),\n",
        "                                                tf.nn.softmax(student_pred / self.t, axis=1))\n",
        "      student_loss = self.student_objective(y, teacher_pred)\n",
        "      loss = (1 - self.alpha) * distiller_loss + self.alpha * student_loss\n",
        "\n",
        "    trainable = self.student.trainable_weights\n",
        "    grads = tape.gradient(loss, trainable)\n",
        "    self.optimizer.apply_gradients(zip(grads, trainable))\n",
        "    self.compiled_metrics.update_state(y, student_pred)\n",
        "\n",
        "    results = {m.name: m.result() for m in self.metrics}\n",
        "    print(results)\n",
        "    results.update({'student_loss': student_loss,\n",
        "                    'distiller_loss': distiller_loss})\n",
        "    return results\n",
        "\n",
        "  def test_step(self, data):\n",
        "    x, y = data\n",
        "    val_pred = self.student(x, training=False)\n",
        "    val_loss = self.student_objective(y, val_pred)\n",
        "\n",
        "    self.compiled_metrics.update_state(y, val_pred)\n",
        "    results = {m.name: m.result() for m in self.metrics}\n",
        "    results.update({'val_student_loss': val_loss})\n",
        "    return results"
      ],
      "metadata": {
        "id": "uDl-3_y4FQuj"
      },
      "execution_count": 15,
      "outputs": []
    },
    {
      "cell_type": "code",
      "source": [
        "x_train = x_train/255.\n",
        "x_train = (x_train - tf.math.reduce_mean(x_train)) / tf.math.reduce_std(x_train)"
      ],
      "metadata": {
        "id": "oeGP03Y2gT1N"
      },
      "execution_count": 16,
      "outputs": []
    },
    {
      "cell_type": "code",
      "source": [
        "y_train = tf.expand_dims(y_train, axis=1)\n",
        "x_train = tf.expand_dims(x_train, axis=3)"
      ],
      "metadata": {
        "id": "5yG2tOxuj8yu"
      },
      "execution_count": 17,
      "outputs": []
    },
    {
      "cell_type": "code",
      "source": [
        "distiller = Distiller(teacher=big_model, student=small_model)\n",
        "distiller.compile(\n",
        "    optimizer=optimizers.Adam(learning_rate=Config.lr),\n",
        "    metrics=metrics.SparseCategoricalAccuracy(),\n",
        "    distiller_objective=losses.KLDivergence(),\n",
        "    student_objective=losses.SparseCategoricalCrossentropy(from_logits=True),\n",
        "    alpha=0.1,\n",
        "    t=10\n",
        "    )"
      ],
      "metadata": {
        "id": "ri-kCkJWWovL"
      },
      "execution_count": 18,
      "outputs": []
    },
    {
      "cell_type": "code",
      "source": [
        "distiller.fit(x=x_train,\n",
        "              y=y_train,\n",
        "              epochs=5,\n",
        "              validation_split=0.2,\n",
        "              callbacks=[DecoupleHelper(init_lr=Config.lr,\n",
        "                                        decay_steps=Config.decay_step,\n",
        "                                        regularizer=Config.reg)])"
      ],
      "metadata": {
        "id": "HtjxtJUTlwsq",
        "colab": {
          "base_uri": "https://localhost:8080/"
        },
        "outputId": "3e5c9c3d-4285-4c38-b7b5-ebcce29e80d6"
      },
      "execution_count": 19,
      "outputs": [
        {
          "output_type": "stream",
          "name": "stdout",
          "text": [
            "Epoch 1/5\n",
            "{'sparse_categorical_accuracy': <tf.Tensor 'Identity:0' shape=() dtype=float32>}\n",
            "{'sparse_categorical_accuracy': <tf.Tensor 'Identity:0' shape=() dtype=float32>}\n",
            "   5/1500 [..............................] - ETA: 20s - sparse_categorical_accuracy: 0.0688 - student_loss: 0.0429 - distiller_loss: 0.2022  WARNING:tensorflow:Callback method `on_train_batch_end` is slow compared to the batch time (batch time: 0.0062s vs `on_train_batch_end` time: 0.0064s). Check your callbacks.\n",
            "1500/1500 [==============================] - 21s 13ms/step - sparse_categorical_accuracy: 0.7629 - student_loss: 0.0522 - distiller_loss: 0.0625 - val_sparse_categorical_accuracy: 0.8802 - val_val_student_loss: 0.2230 - next_lr: 0.0050 - next_wd: 5.0000e-05\n",
            "Epoch 2/5\n",
            "1500/1500 [==============================] - 18s 12ms/step - sparse_categorical_accuracy: 0.8907 - student_loss: 0.0521 - distiller_loss: 0.0379 - val_sparse_categorical_accuracy: 0.8964 - val_val_student_loss: 0.1522 - next_lr: 0.0100 - next_wd: 1.0000e-04 - WEIGHT UPDATED: 1.0000\n",
            "Epoch 3/5\n",
            "1500/1500 [==============================] - 16s 11ms/step - sparse_categorical_accuracy: 0.8975 - student_loss: 0.0522 - distiller_loss: 0.0367 - val_sparse_categorical_accuracy: 0.9099 - val_val_student_loss: 0.1619 - next_lr: 0.0085 - next_wd: 8.5355e-05 - WEIGHT UPDATED: 1.0000\n",
            "Epoch 4/5\n",
            "1500/1500 [==============================] - 16s 11ms/step - sparse_categorical_accuracy: 0.9123 - student_loss: 0.0523 - distiller_loss: 0.0320 - val_sparse_categorical_accuracy: 0.9168 - val_val_student_loss: 0.2187 - next_lr: 0.0050 - next_wd: 5.0000e-05 - WEIGHT UPDATED: 1.0000\n",
            "Epoch 5/5\n",
            "1500/1500 [==============================] - 16s 11ms/step - sparse_categorical_accuracy: 0.9233 - student_loss: 0.0521 - distiller_loss: 0.0282 - val_sparse_categorical_accuracy: 0.9219 - val_val_student_loss: 0.2306 - next_lr: 0.0015 - next_wd: 1.4645e-05 - WEIGHT UPDATED: 1.0000\n",
            "Training end\n"
          ]
        },
        {
          "output_type": "execute_result",
          "data": {
            "text/plain": [
              "<keras.callbacks.History at 0x7fe3bf699710>"
            ]
          },
          "metadata": {},
          "execution_count": 19
        }
      ]
    },
    {
      "cell_type": "code",
      "source": [
        "plt.plot(distiller.history.history.get('sparse_categorical_accuracy'), label='train')\n",
        "plt.plot(distiller.history.history.get('val_sparse_categorical_accuracy'), label='val')\n",
        "plt.legend()\n",
        "plt.grid()\n",
        "plt.xlabel('Epochs')\n",
        "plt.ylabel('Accuracy')\n",
        "plt.title('Distilled model')"
      ],
      "metadata": {
        "colab": {
          "base_uri": "https://localhost:8080/",
          "height": 312
        },
        "id": "9Dl8NeM7zHq7",
        "outputId": "5a50d25f-92f1-4b61-bffe-dd2cf94c6aa4"
      },
      "execution_count": 20,
      "outputs": [
        {
          "output_type": "execute_result",
          "data": {
            "text/plain": [
              "Text(0.5, 1.0, 'Distilled model')"
            ]
          },
          "metadata": {},
          "execution_count": 20
        },
        {
          "output_type": "display_data",
          "data": {
            "text/plain": [
              "<Figure size 432x288 with 1 Axes>"
            ],
            "image/png": "[encoded data removed]"
          },
          "metadata": {
            "needs_background": "light"
          }
        }
      ]
    },
    {
      "cell_type": "code",
      "source": [
        "x_test = x_test/255.\n",
        "x_test = (x_test - tf.math.reduce_mean(x_test)) / tf.math.reduce_std(x_test)"
      ],
      "metadata": {
        "id": "q8tYva2f53A0"
      },
      "execution_count": 21,
      "outputs": []
    },
    {
      "cell_type": "code",
      "source": [
        "big_model.evaluate(x_test, y_test)"
      ],
      "metadata": {
        "id": "mg-_jL-W6j3i",
        "colab": {
          "base_uri": "https://localhost:8080/"
        },
        "outputId": "0ab05816-dc5a-42cd-8e86-2caa0f20f602"
      },
      "execution_count": 22,
      "outputs": [
        {
          "output_type": "stream",
          "name": "stdout",
          "text": [
            "313/313 [==============================] - 8s 19ms/step - loss: 0.0883 - sparse_categorical_accuracy: 0.9843\n"
          ]
        },
        {
          "output_type": "execute_result",
          "data": {
            "text/plain": [
              "[0.0882778987288475, 0.9843000173568726]"
            ]
          },
          "metadata": {},
          "execution_count": 22
        }
      ]
    },
    {
      "cell_type": "code",
      "source": [
        "distiller.evaluate(x_test, y_test)"
      ],
      "metadata": {
        "id": "jBjOeaQQ3Pil",
        "colab": {
          "base_uri": "https://localhost:8080/"
        },
        "outputId": "2ff94001-7835-42e6-dea9-519221d4f143"
      },
      "execution_count": 23,
      "outputs": [
        {
          "output_type": "stream",
          "name": "stdout",
          "text": [
            "313/313 [==============================] - 3s 7ms/step - sparse_categorical_accuracy: 0.9161 - val_student_loss: 0.2839\n"
          ]
        },
        {
          "output_type": "execute_result",
          "data": {
            "text/plain": [
              "[0.916100025177002, 0.13780920207500458]"
            ]
          },
          "metadata": {},
          "execution_count": 23
        }
      ]
    }
  ]
}