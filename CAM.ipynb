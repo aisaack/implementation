{
  "nbformat": 4,
  "nbformat_minor": 0,
  "metadata": {
    "colab": {
      "name": "CAM.ipynb",
      "provenance": [],
      "collapsed_sections": [],
      "authorship_tag": "ABX9TyOk7gRJCH1giURKAJ6UKQ0e"
    },
    "kernelspec": {
      "name": "python3",
      "display_name": "Python 3"
    },
    "language_info": {
      "name": "python"
    }
  },
  "cells": [
    {
      "cell_type": "markdown",
      "metadata": {
        "id": "qsxvLKXgnMR7"
      },
      "source": [
        "# Class Activation Map\n",
        "### Reference\n",
        "1. [Learning Deep Features for Discriminative Localization](https://arxiv.org/abs/1512.04150)\n",
        "2. [Original github](https://github.com/zhoubolei/CAM/blob/master/pytorch_CAM.py)"
      ]
    },
    {
      "cell_type": "code",
      "metadata": {
        "id": "6oUhDMNInIiF"
      },
      "source": [
        "import tensorflow as tf\n",
        "from tensorflow.keras import layers\n",
        "from tensorflow.keras import models\n",
        "from tensorflow.keras import backend\n",
        "from tensorflow.keras import regularizers\n",
        "from tensorflow.keras import initializers\n",
        "from tensorflow.keras import optimizers\n",
        "from tensorflow.keras import losses\n",
        "from tensorflow.keras import metrics\n",
        "from tensorflow.keras import callbacks\n",
        "\n",
        "import numpy as np\n",
        "import matplotlib.pyplot as plt"
      ],
      "execution_count": 1,
      "outputs": []
    },
    {
      "cell_type": "code",
      "source": [
        "def resblock(X, filter, args, stage, block):\n",
        "  x = layers.BatchNormalization()(X)\n",
        "  x = layers.ReLU()(x)\n",
        "  x = layers.Conv2D(filters=filter,\n",
        "                    kernel_size=(3, 3),\n",
        "                    strides=(1, 1) if stage == 0 or block > 0 else (2 ,2),\n",
        "                    padding='same',\n",
        "                    kernel_initializer=args.init,\n",
        "                    kernel_regularizer=args.reg)(x)\n",
        "\n",
        "  x = layers.BatchNormalization()(x)\n",
        "  x = layers.ReLU()(x)\n",
        "  x = layers.Conv2D(filters=filter,\n",
        "                    kernel_size=(3, 3),\n",
        "                    strides=(1, 1),\n",
        "                    padding='same',\n",
        "                    kernel_initializer=args.init,\n",
        "                    kernel_regularizer=args.reg)(x)\n",
        "\n",
        "  if stage == 0 or block > 0:\n",
        "    out = layers.Add()([x, X])\n",
        "    return out\n",
        "  else:\n",
        "    id = layers.Conv2D(filters=filter,\n",
        "                      kernel_size=(1, 1),\n",
        "                      strides=(2, 2),\n",
        "                      padding='same',\n",
        "                      kernel_initializer=args.init,\n",
        "                      kernel_regularizer=args.reg)(X)\n",
        "    out = layers.Add()([x, id])\n",
        "    return out\n",
        "  "
      ],
      "metadata": {
        "id": "igx_SP5M7eKy"
      },
      "execution_count": 2,
      "outputs": []
    },
    {
      "cell_type": "code",
      "source": [
        "def build_graph(X, args):\n",
        "  # network stem\n",
        "  x = layers.Conv2D(filters=16,\n",
        "                    kernel_size=(3, 3),\n",
        "                    strides=(1, 1),\n",
        "                    padding='same',\n",
        "                    kernel_initializer=args.init,\n",
        "                    kernel_regularizer=args.reg)(X)\n",
        "\n",
        "  for stage_idx, filter in enumerate(args.filters):\n",
        "    for block in range(args.n_block):\n",
        "      x = resblock(x, filter, args, stage_idx, block)\n",
        "      print(f'{stage_idx+2}-{block+1} size {x.shape}')\n",
        "  \n",
        "  # network head\n",
        "  x = layers.GlobalAveragePooling2D()(x)\n",
        "  x = layers.Dense(units=10,\n",
        "                   kernel_initializer=args.init,\n",
        "                   kernel_regularizer=args.reg)(x)\n",
        "  x = layers.Softmax()(x)\n",
        "  return x"
      ],
      "metadata": {
        "id": "BLlZM0AAP7Kf"
      },
      "execution_count": 3,
      "outputs": []
    },
    {
      "cell_type": "code",
      "source": [
        "def build_model(args):\n",
        "  inputs = layers.Input(shape=args.input_shape)\n",
        "  outputs = build_graph(inputs, args)\n",
        "  model = models.Model(inputs=inputs, outputs=outputs)\n",
        "  return model"
      ],
      "metadata": {
        "id": "W70irMaCQAQm"
      },
      "execution_count": 4,
      "outputs": []
    },
    {
      "cell_type": "code",
      "source": [
        "class Config:\n",
        "  lr = 1e-1\n",
        "  epochs = 65\n",
        "  batch_size = 128\n",
        "  momentum = 0.9\n",
        "  weight_decay = 1e-4\n",
        "  decay_step = 1\n",
        "  filters = [16, 32, 64]\n",
        "  input_shape = (32, 32, 3)\n",
        "  n_block = 3\n",
        "  loss = losses.SparseCategoricalCrossentropy(from_logits=False)\n",
        "  metrics = metrics.SparseCategoricalAccuracy()\n",
        "  init = initializers.HeNormal()\n",
        "  reg = regularizers.L2(l2=weight_decay)\n",
        "  opt = optimizers.SGD(learning_rate=lr, momentum=momentum)"
      ],
      "metadata": {
        "id": "1fMYSe7OQwHv"
      },
      "execution_count": 5,
      "outputs": []
    },
    {
      "cell_type": "code",
      "source": [
        "model = build_model(Config)"
      ],
      "metadata": {
        "colab": {
          "base_uri": "https://localhost:8080/"
        },
        "id": "4t3oihZWInoG",
        "outputId": "27c8fe4c-b3a1-4d92-cf2a-a7d661da6c4d"
      },
      "execution_count": 6,
      "outputs": [
        {
          "output_type": "stream",
          "name": "stdout",
          "text": [
            "2-1 size (None, 32, 32, 16)\n",
            "2-2 size (None, 32, 32, 16)\n",
            "2-3 size (None, 32, 32, 16)\n",
            "3-1 size (None, 16, 16, 32)\n",
            "3-2 size (None, 16, 16, 32)\n",
            "3-3 size (None, 16, 16, 32)\n",
            "4-1 size (None, 8, 8, 64)\n",
            "4-2 size (None, 8, 8, 64)\n",
            "4-3 size (None, 8, 8, 64)\n"
          ]
        }
      ]
    },
    {
      "cell_type": "code",
      "source": [
        "model.load_weights('resnet20.h5')"
      ],
      "metadata": {
        "id": "XbSPpM7NeVJS"
      },
      "execution_count": 13,
      "outputs": []
    },
    {
      "cell_type": "code",
      "source": [
        "(x_train, y_train), (x_test, y_test) = tf.keras.datasets.cifar10.load_data()"
      ],
      "metadata": {
        "id": "zUDlT94VABT-",
        "colab": {
          "base_uri": "https://localhost:8080/"
        },
        "outputId": "3d7ec0fb-9840-4b22-e989-2baf78785960"
      },
      "execution_count": 8,
      "outputs": [
        {
          "output_type": "stream",
          "name": "stdout",
          "text": [
            "Downloading data from https://www.cs.toronto.edu/~kriz/cifar-10-python.tar.gz\n",
            "170500096/170498071 [==============================] - 2s 0us/step\n",
            "170508288/170498071 [==============================] - 2s 0us/step\n"
          ]
        }
      ]
    },
    {
      "cell_type": "code",
      "source": [
        "model.compile(optimizer=Config.opt,\n",
        "              loss=Config.loss,\n",
        "              metrics=Config.metrics)"
      ],
      "metadata": {
        "id": "sLM6_MVxeziY"
      },
      "execution_count": 14,
      "outputs": []
    },
    {
      "cell_type": "code",
      "source": [
        "x_test = tf.divide(tf.cast(x_test, tf.float32), 255.)\n",
        "x_test = (x_test - tf.math.reduce_mean(x_test)) / tf.math.reduce_std(x_test)"
      ],
      "metadata": {
        "id": "N2Zl6ikHe5as"
      },
      "execution_count": 10,
      "outputs": []
    },
    {
      "cell_type": "code",
      "source": [
        "model.evaluate(x=x_test, y=y_test)"
      ],
      "metadata": {
        "colab": {
          "base_uri": "https://localhost:8080/"
        },
        "id": "A9aAgOK2eo9R",
        "outputId": "9e0e7396-2298-4c82-9585-a69e8d620df2"
      },
      "execution_count": 15,
      "outputs": [
        {
          "output_type": "stream",
          "name": "stdout",
          "text": [
            "313/313 [==============================] - 38s 120ms/step - loss: 0.8254 - sparse_categorical_accuracy: 0.8501\n"
          ]
        },
        {
          "output_type": "execute_result",
          "data": {
            "text/plain": [
              "[0.8253878951072693, 0.8501499891281128]"
            ]
          },
          "metadata": {},
          "execution_count": 15
        }
      ]
    },
    {
      "cell_type": "code",
      "source": [
        "feature_list = [layer.output for layer in model.layers]\n",
        "print(len(model.layers))\n",
        "cam_model = models.Model(inputs=model.input, outputs=(feature_list[-4], feature_list[-1]))"
      ],
      "metadata": {
        "colab": {
          "base_uri": "https://localhost:8080/"
        },
        "id": "aPIcIEIhfmtN",
        "outputId": "691aad59-b832-4a15-c001-851e23526327"
      },
      "execution_count": 16,
      "outputs": [
        {
          "output_type": "stream",
          "name": "stdout",
          "text": [
            "70\n"
          ]
        }
      ]
    },
    {
      "cell_type": "code",
      "source": [
        "label = ['airplain', 'automobile', 'bird', 'cat', 'deer', 'dog', 'frog', 'horse', 'ship' ,'truck']\n",
        "random = np.random.randint(0, 9999, 4)\n",
        "print(random)\n",
        "fig, ax = plt.subplots(2, 4, figsize=(14, 7))\n",
        "for idx, val in enumerate(random):\n",
        "  new_test = tf.expand_dims(x_test[val], axis=0)\n",
        "  feature, pred = cam_model(new_test)\n",
        "  dense_weight = cam_model.get_layer(index=68).get_weights()[0]\n",
        "  pred = np.argmax(pred)\n",
        "  cam = tf.reshape(tf.linalg.matmul(tf.reshape(tf.squeeze(feature), (64, 64)), dense_weight), (8, 8, 10))\n",
        "  cam = tf.divide(tf.subtract(cam, tf.math.reduce_min(cam)), tf.math.reduce_max(cam))\n",
        "  cam = tf.image.resize(cam, (32, 32))\n",
        "  ax[0, idx].imshow(x_test[val])\n",
        "  ax[0, idx].set_xlabel(f'GT: {label[y_test[val][0]]}')\n",
        "  ax[0, idx].set_xticks([])\n",
        "  ax[0, idx].set_yticks([])\n",
        "  ax[1, idx].imshow(cam[:,:,pred], alpha=.9, cmap='jet')\n",
        "  ax[1, idx].imshow(x_test[val], alpha=.5)\n",
        "  ax[1, idx].set_xlabel(f'PRED: {label[pred]}')\n",
        "  ax[1, idx].tick_params(left = False, right = False , labelleft = False, labelbottom = False, bottom = False)\n",
        "  fig.tight_layout()"
      ],
      "metadata": {
        "colab": {
          "base_uri": "https://localhost:8080/",
          "height": 669
        },
        "id": "U8xJqLtjoLGg",
        "outputId": "68f941cd-f366-4964-eb8a-dfaed426a460"
      },
      "execution_count": 45,
      "outputs": [
        {
          "output_type": "stream",
          "name": "stdout",
          "text": [
            "[2112 1670 2466 6698]\n"
          ]
        },
        {
          "output_type": "stream",
          "name": "stderr",
          "text": [
            "Clipping input data to the valid range for imshow with RGB data ([0..1] for floats or [0..255] for integers).\n",
            "Clipping input data to the valid range for imshow with RGB data ([0..1] for floats or [0..255] for integers).\n",
            "Clipping input data to the valid range for imshow with RGB data ([0..1] for floats or [0..255] for integers).\n",
            "Clipping input data to the valid range for imshow with RGB data ([0..1] for floats or [0..255] for integers).\n",
            "Clipping input data to the valid range for imshow with RGB data ([0..1] for floats or [0..255] for integers).\n",
            "Clipping input data to the valid range for imshow with RGB data ([0..1] for floats or [0..255] for integers).\n",
            "Clipping input data to the valid range for imshow with RGB data ([0..1] for floats or [0..255] for integers).\n",
            "Clipping input data to the valid range for imshow with RGB data ([0..1] for floats or [0..255] for integers).\n"
          ]
        },
        {
          "output_type": "display_data",
          "data": {
            "text/plain": [
              "<Figure size 1008x504 with 8 Axes>"
            ],
            "image/png": "[encoded data removed]"
          },
          "metadata": {}
        }
      ]
    }
  ]
}